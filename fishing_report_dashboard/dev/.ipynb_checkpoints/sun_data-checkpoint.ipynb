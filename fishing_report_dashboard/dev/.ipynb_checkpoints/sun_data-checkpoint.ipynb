{
 "cells": [
  {
   "cell_type": "code",
   "execution_count": 7,
   "id": "cd3f6ce2",
   "metadata": {},
   "outputs": [],
   "source": [
    "from dateutil import rrule\n",
    "from datetime import datetime, date\n",
    "\n",
    "import pandas as pd\n",
    "from suntime import Sun, SunTimeException\n",
    "\n",
    "\n",
    "lat = 37.25511924499429\n",
    "lon = -79.94058843602322\n",
    "\n",
    "# start/end\n",
    "start_dt = datetime(2023, 1, 1)\n",
    "end_dt = datetime(2023, 3, 1)\n",
    "\n",
    "df = pd.DataFrame(columns = ['sundata_lat', 'sundata_lon', 'date', 'sunrise', 'sunset', 'sun_hours'])\n",
    "sun = Sun(lat, lon)\n",
    "\n",
    "for dt in rrule.rrule(rrule.DAILY, dtstart = start_dt, until = end_dt):\n",
    "    abd = dt.date()\n",
    "    abd_sr = sun.get_local_sunrise_time(abd)\n",
    "    abd_ss = sun.get_local_sunset_time(abd)\n",
    "\n",
    "    row = {\n",
    "        'sundata_lat' : lat,\n",
    "           'sundata_lon' : lon,\n",
    "           'date' : abd,\n",
    "           'sunrise' : abd_sr,\n",
    "           'sunset' : abd_ss,\n",
    "           'sun_hours' : abd_ss - abd_sr\n",
    "    }\n",
    "\n",
    "    df = df.append(row, ignore_index = True)\n"
   ]
  },
  {
   "cell_type": "code",
   "execution_count": 10,
   "id": "2e2b1494",
   "metadata": {},
   "outputs": [
    {
     "data": {
      "text/plain": [
       "datetime.datetime(2023, 1, 1, 0, 0)"
      ]
     },
     "execution_count": 10,
     "metadata": {},
     "output_type": "execute_result"
    }
   ],
   "source": [
    "start_dt"
   ]
  }
 ],
 "metadata": {
  "kernelspec": {
   "display_name": "Python 3 (ipykernel)",
   "language": "python",
   "name": "python3"
  },
  "language_info": {
   "codemirror_mode": {
    "name": "ipython",
    "version": 3
   },
   "file_extension": ".py",
   "mimetype": "text/x-python",
   "name": "python",
   "nbconvert_exporter": "python",
   "pygments_lexer": "ipython3",
   "version": "3.10.0"
  },
  "varInspector": {
   "cols": {
    "lenName": 16,
    "lenType": 16,
    "lenVar": 40
   },
   "kernels_config": {
    "python": {
     "delete_cmd_postfix": "",
     "delete_cmd_prefix": "del ",
     "library": "var_list.py",
     "varRefreshCmd": "print(var_dic_list())"
    },
    "r": {
     "delete_cmd_postfix": ") ",
     "delete_cmd_prefix": "rm(",
     "library": "var_list.r",
     "varRefreshCmd": "cat(var_dic_list()) "
    }
   },
   "types_to_exclude": [
    "module",
    "function",
    "builtin_function_or_method",
    "instance",
    "_Feature"
   ],
   "window_display": false
  }
 },
 "nbformat": 4,
 "nbformat_minor": 5
}
