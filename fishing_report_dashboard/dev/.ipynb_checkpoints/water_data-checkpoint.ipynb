{
 "cells": [
  {
   "cell_type": "code",
   "execution_count": 8,
   "id": "2312d72d",
   "metadata": {},
   "outputs": [],
   "source": [
    "import pandas as pd\n",
    "import requests\n",
    "from io import StringIO\n",
    "\n",
    "\n",
    "def _get_url(site, param_cd, start_dt, end_dt):\n",
    "    url_base = 'https://waterservices.usgs.gov/nwis/iv/'\n",
    "    url_params_ind = '?'\n",
    "    url_params = f'sites={site}&parameterCd={param_cd}&startDT={start_dt}&endDT={end_dt}&siteStatus=all&format=rdb'\n",
    "    \n",
    "    return url_base + url_params_ind + url_params\n",
    "\n",
    "\n",
    "def _clean_text_data(text):\n",
    "    clean_tsv = ''\n",
    "    for line in text.splitlines():\n",
    "        if not line.startswith('#'):\n",
    "            clean_tsv += line + '\\n'\n",
    "\n",
    "    return clean_tsv\n",
    "\n",
    "\n",
    "def _read_usgs_tsv(tsv):\n",
    "    \n",
    "    return pd.read_csv(StringIO(tsv), sep='\\t', lineterminator='\\n', skiprows=[1])\n",
    "\n",
    "\n",
    "def _verify(text):\n",
    "    status = True\n",
    "    \n",
    "    if 'The request sent by the client was syntactically incorrect' in text:\n",
    "        print('A parameter was likely mistyped.')\n",
    "        status = False\n",
    "        \n",
    "    elif 'No sites found matching' in text:\n",
    "        print('The site doesn\\'t measure the provided parameter.')\n",
    "        status = False\n",
    "    \n",
    "    return status\n",
    "\n",
    "\n",
    "def get_usgs_water_data(site, param_cd, start_dt, end_dt):\n",
    "    r = requests.get(_get_url(site, param_cd, start_dt, end_dt))\n",
    "    raw_tsv = r.text\n",
    "    if _verify(raw_tsv):\n",
    "        cleaned_tsv = _clean_text_data(raw_tsv)\n",
    "        df = _read_usgs_tsv(cleaned_tsv)\n",
    "    else:\n",
    "        df = None\n",
    "    \n",
    "    return df"
   ]
  },
  {
   "cell_type": "code",
   "execution_count": 11,
   "id": "a509b351",
   "metadata": {},
   "outputs": [
    {
     "name": "stdout",
     "output_type": "stream",
     "text": [
      "The site doesn't measure the provided parameter.\n"
     ]
    }
   ],
   "source": [
    "site = '02055000'\n",
    "param_cd = '00010'\n",
    "start_dt = '2023-02-20T19:17:43.422-05:00'\n",
    "end_dt = '2023-02-27T19:17:43.422-05:00'\n",
    "\n",
    "r = requests.get(_get_url(site, param_cd, start_dt, end_dt))\n",
    "'No sites found matching' in r.text\n",
    "\n",
    "get_usgs_water_data(site, param_cd, start_dt, end_dt)"
   ]
  }
 ],
 "metadata": {
  "kernelspec": {
   "display_name": "Python 3 (ipykernel)",
   "language": "python",
   "name": "python3"
  },
  "language_info": {
   "codemirror_mode": {
    "name": "ipython",
    "version": 3
   },
   "file_extension": ".py",
   "mimetype": "text/x-python",
   "name": "python",
   "nbconvert_exporter": "python",
   "pygments_lexer": "ipython3",
   "version": "3.10.0"
  },
  "varInspector": {
   "cols": {
    "lenName": 16,
    "lenType": 16,
    "lenVar": 40
   },
   "kernels_config": {
    "python": {
     "delete_cmd_postfix": "",
     "delete_cmd_prefix": "del ",
     "library": "var_list.py",
     "varRefreshCmd": "print(var_dic_list())"
    },
    "r": {
     "delete_cmd_postfix": ") ",
     "delete_cmd_prefix": "rm(",
     "library": "var_list.r",
     "varRefreshCmd": "cat(var_dic_list()) "
    }
   },
   "types_to_exclude": [
    "module",
    "function",
    "builtin_function_or_method",
    "instance",
    "_Feature"
   ],
   "window_display": false
  }
 },
 "nbformat": 4,
 "nbformat_minor": 5
}
