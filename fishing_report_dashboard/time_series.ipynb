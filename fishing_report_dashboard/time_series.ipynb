{
 "cells": [
  {
   "cell_type": "markdown",
   "id": "3d2eaee9",
   "metadata": {},
   "source": [
    "*source: https://builtin.com/data-science/time-series-python*\n",
    "\n",
    "The below are *assumptions* of a time series:\n",
    "\n",
    "**Stationarity** - metric if the data has structural patterns like seasonal trends\\\n",
    "**Autocorrelation** - when future values in a time series linearly depend on past values\n",
    "\n",
    "\n",
    "Examples of how the assumptions are used in different methods:\n",
    "\n",
    "- autoregressive integrated moving average (ARIMA) method for forecasting time series assumes stationarity\n",
    "- linear regression for time series forecasting assumes that the data has no autocorrelation"
   ]
  }
 ],
 "metadata": {
  "kernelspec": {
   "display_name": "Python 3 (ipykernel)",
   "language": "python",
   "name": "python3"
  },
  "language_info": {
   "codemirror_mode": {
    "name": "ipython",
    "version": 3
   },
   "file_extension": ".py",
   "mimetype": "text/x-python",
   "name": "python",
   "nbconvert_exporter": "python",
   "pygments_lexer": "ipython3",
   "version": "3.10.0"
  },
  "varInspector": {
   "cols": {
    "lenName": 16,
    "lenType": 16,
    "lenVar": 40
   },
   "kernels_config": {
    "python": {
     "delete_cmd_postfix": "",
     "delete_cmd_prefix": "del ",
     "library": "var_list.py",
     "varRefreshCmd": "print(var_dic_list())"
    },
    "r": {
     "delete_cmd_postfix": ") ",
     "delete_cmd_prefix": "rm(",
     "library": "var_list.r",
     "varRefreshCmd": "cat(var_dic_list()) "
    }
   },
   "types_to_exclude": [
    "module",
    "function",
    "builtin_function_or_method",
    "instance",
    "_Feature"
   ],
   "window_display": false
  }
 },
 "nbformat": 4,
 "nbformat_minor": 5
}
