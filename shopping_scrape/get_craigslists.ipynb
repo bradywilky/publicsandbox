{
 "cells": [
  {
   "cell_type": "code",
   "execution_count": 1,
   "id": "c3477f87",
   "metadata": {},
   "outputs": [],
   "source": [
    "from bs4 import BeautifulSoup \n",
    "import requests\n",
    "\n",
    "\n",
    "url = 'https://www.craigslist.org/about/sites'\n",
    "headers = {'referer': 'https://usa.fishermap.org/', 'User-Agent': 'Mozilla/5.0 (Windows NT 10.0; Win64; x64) AppleWebKit/537.36 (KHTML, like Gecko) Chrome/108.0.0.0 Safari/537.36'}\n",
    "r = requests.get(url,headers=headers)\n",
    "\n",
    "soup = BeautifulSoup(r.content)"
   ]
  },
  {
   "cell_type": "code",
   "execution_count": 2,
   "id": "f5b5eed2",
   "metadata": {},
   "outputs": [],
   "source": [
    "non_cont_us_str = str(soup).split('\\n<h4>Territories<')[1]\n",
    "\n",
    "urls = list()\n",
    "\n",
    "for t in soup.findAll('li'):\n",
    "    if t.find('a'):\n",
    "        s = t.find('a').attrs['href']\n",
    "        if s.endswith('.org') and s not in non_cont_us_str:\n",
    "            urls.append(s)"
   ]
  },
  {
   "cell_type": "code",
   "execution_count": 3,
   "id": "5e7b8e5d",
   "metadata": {},
   "outputs": [],
   "source": [
    "def get_state_urls(state):\n",
    "    url = f'https://geo.craigslist.org/iso/us/{state}'\n",
    "    headers = {'referer': 'https://usa.fishermap.org/', 'User-Agent': 'Mozilla/5.0 (Windows NT 10.0; Win64; x64) AppleWebKit/537.36 (KHTML, like Gecko) Chrome/108.0.0.0 Safari/537.36'}\n",
    "    r = requests.get(url,headers=headers)\n",
    "\n",
    "    soup = BeautifulSoup(r.content)\n",
    "\n",
    "    badwords = [\n",
    "        'help',\n",
    "        'safety',\n",
    "        'privacy',\n",
    "        'feedback',\n",
    "        'terms',\n",
    "        'about',\n",
    "        'craigslist app',\n",
    "        'cl is hiring'\n",
    "     ]\n",
    "\n",
    "    urls = list()\n",
    "\n",
    "    for i in [x.find('a') for x in soup.findAll('li')]:\n",
    "        if i and i.string not in badwords:\n",
    "            urls.append(i.attrs['href'])\n",
    "            \n",
    "    \n",
    "    return urls"
   ]
  },
  {
   "cell_type": "code",
   "execution_count": 6,
   "id": "d55d63fa",
   "metadata": {},
   "outputs": [
    {
     "name": "stderr",
     "output_type": "stream",
     "text": [
      "C:\\Users\\15714\\AppData\\Local\\Programs\\Python\\Python310\\lib\\site-packages\\fuzzywuzzy\\fuzz.py:11: UserWarning: Using slow pure-python SequenceMatcher. Install python-Levenshtein to remove this warning\n",
      "  warnings.warn('Using slow pure-python SequenceMatcher. Install python-Levenshtein to remove this warning')\n"
     ]
    }
   ],
   "source": [
    "from uszipcode import SearchEngine\n",
    "search = SearchEngine()\n",
    "result = search.by_population(lower=0, upper=1000000000, returns = 1000000000)"
   ]
  },
  {
   "cell_type": "code",
   "execution_count": 7,
   "id": "01e51f46",
   "metadata": {},
   "outputs": [],
   "source": [
    "home = search.by_zipcode('24016')"
   ]
  },
  {
   "cell_type": "code",
   "execution_count": 8,
   "id": "2b7a30d4",
   "metadata": {},
   "outputs": [],
   "source": [
    "import math\n",
    "\n",
    "data = list()\n",
    "for zipcode in result:\n",
    "    data.append(\n",
    "        {'major_city': zipcode.major_city,\n",
    "         'state': zipcode.state,\n",
    "         'lat': zipcode.lat,\n",
    "         'lon': zipcode.lng,\n",
    "         'dist': math.sqrt((zipcode.lat - home.lat)**2 + (zipcode.lng - home.lng)**2)\n",
    "        }\n",
    "    )"
   ]
  },
  {
   "cell_type": "code",
   "execution_count": 9,
   "id": "9dbf3b53",
   "metadata": {},
   "outputs": [
    {
     "data": {
      "text/html": [
       "<div>\n",
       "<style scoped>\n",
       "    .dataframe tbody tr th:only-of-type {\n",
       "        vertical-align: middle;\n",
       "    }\n",
       "\n",
       "    .dataframe tbody tr th {\n",
       "        vertical-align: top;\n",
       "    }\n",
       "\n",
       "    .dataframe thead th {\n",
       "        text-align: right;\n",
       "    }\n",
       "</style>\n",
       "<table border=\"1\" class=\"dataframe\">\n",
       "  <thead>\n",
       "    <tr style=\"text-align: right;\">\n",
       "      <th></th>\n",
       "      <th>major_city</th>\n",
       "      <th>state</th>\n",
       "      <th>lat</th>\n",
       "      <th>lon</th>\n",
       "      <th>dist</th>\n",
       "    </tr>\n",
       "  </thead>\n",
       "  <tbody>\n",
       "    <tr>\n",
       "      <th>0</th>\n",
       "      <td>Chicago</td>\n",
       "      <td>IL</td>\n",
       "      <td>41.78</td>\n",
       "      <td>-87.71</td>\n",
       "      <td>8.975394</td>\n",
       "    </tr>\n",
       "    <tr>\n",
       "      <th>1</th>\n",
       "      <td>El Paso</td>\n",
       "      <td>TX</td>\n",
       "      <td>31.78</td>\n",
       "      <td>-106.30</td>\n",
       "      <td>26.915843</td>\n",
       "    </tr>\n",
       "    <tr>\n",
       "      <th>2</th>\n",
       "      <td>Corona</td>\n",
       "      <td>NY</td>\n",
       "      <td>40.74</td>\n",
       "      <td>-73.85</td>\n",
       "      <td>7.017899</td>\n",
       "    </tr>\n",
       "    <tr>\n",
       "      <th>3</th>\n",
       "      <td>Norwalk</td>\n",
       "      <td>CA</td>\n",
       "      <td>33.90</td>\n",
       "      <td>-118.07</td>\n",
       "      <td>38.268673</td>\n",
       "    </tr>\n",
       "    <tr>\n",
       "      <th>4</th>\n",
       "      <td>Los Angeles</td>\n",
       "      <td>CA</td>\n",
       "      <td>34.00</td>\n",
       "      <td>-118.25</td>\n",
       "      <td>38.439341</td>\n",
       "    </tr>\n",
       "    <tr>\n",
       "      <th>...</th>\n",
       "      <td>...</td>\n",
       "      <td>...</td>\n",
       "      <td>...</td>\n",
       "      <td>...</td>\n",
       "      <td>...</td>\n",
       "    </tr>\n",
       "    <tr>\n",
       "      <th>28638</th>\n",
       "      <td>Glentana</td>\n",
       "      <td>MT</td>\n",
       "      <td>48.84</td>\n",
       "      <td>-106.24</td>\n",
       "      <td>28.723318</td>\n",
       "    </tr>\n",
       "    <tr>\n",
       "      <th>28639</th>\n",
       "      <td>Mohler</td>\n",
       "      <td>WA</td>\n",
       "      <td>47.36</td>\n",
       "      <td>-118.35</td>\n",
       "      <td>39.703502</td>\n",
       "    </tr>\n",
       "    <tr>\n",
       "      <th>28640</th>\n",
       "      <td>Fairbanks</td>\n",
       "      <td>AK</td>\n",
       "      <td>65.39</td>\n",
       "      <td>-148.33</td>\n",
       "      <td>73.936181</td>\n",
       "    </tr>\n",
       "    <tr>\n",
       "      <th>28641</th>\n",
       "      <td>Waldron</td>\n",
       "      <td>KS</td>\n",
       "      <td>37.00</td>\n",
       "      <td>-98.18</td>\n",
       "      <td>18.231999</td>\n",
       "    </tr>\n",
       "    <tr>\n",
       "      <th>28642</th>\n",
       "      <td>Silver Gate</td>\n",
       "      <td>MT</td>\n",
       "      <td>45.01</td>\n",
       "      <td>-109.97</td>\n",
       "      <td>31.001742</td>\n",
       "    </tr>\n",
       "  </tbody>\n",
       "</table>\n",
       "<p>28643 rows × 5 columns</p>\n",
       "</div>"
      ],
      "text/plain": [
       "        major_city state    lat     lon       dist\n",
       "0          Chicago    IL  41.78  -87.71   8.975394\n",
       "1          El Paso    TX  31.78 -106.30  26.915843\n",
       "2           Corona    NY  40.74  -73.85   7.017899\n",
       "3          Norwalk    CA  33.90 -118.07  38.268673\n",
       "4      Los Angeles    CA  34.00 -118.25  38.439341\n",
       "...            ...   ...    ...     ...        ...\n",
       "28638     Glentana    MT  48.84 -106.24  28.723318\n",
       "28639       Mohler    WA  47.36 -118.35  39.703502\n",
       "28640    Fairbanks    AK  65.39 -148.33  73.936181\n",
       "28641      Waldron    KS  37.00  -98.18  18.231999\n",
       "28642  Silver Gate    MT  45.01 -109.97  31.001742\n",
       "\n",
       "[28643 rows x 5 columns]"
      ]
     },
     "execution_count": 9,
     "metadata": {},
     "output_type": "execute_result"
    }
   ],
   "source": [
    "import pandas as pd\n",
    "df = pd.DataFrame(data = data)\n",
    "\n",
    "df = df.sort_values('dist')"
   ]
  },
  {
   "cell_type": "code",
   "execution_count": 23,
   "id": "7d646419",
   "metadata": {},
   "outputs": [
    {
     "data": {
      "text/plain": [
       "{'AL',\n",
       " 'CT',\n",
       " 'DC',\n",
       " 'DE',\n",
       " 'FL',\n",
       " 'GA',\n",
       " 'IL',\n",
       " 'IN',\n",
       " 'KY',\n",
       " 'MD',\n",
       " 'MI',\n",
       " 'NC',\n",
       " 'NJ',\n",
       " 'NY',\n",
       " 'OH',\n",
       " 'PA',\n",
       " 'SC',\n",
       " 'TN',\n",
       " 'VA',\n",
       " 'WV'}"
      ]
     },
     "execution_count": 23,
     "metadata": {},
     "output_type": "execute_result"
    }
   ],
   "source": [
    "# 8 hour drive max entry\n",
    "zips = df[df['dist'] < 8]\n",
    "set(zips['state'])"
   ]
  }
 ],
 "metadata": {
  "kernelspec": {
   "display_name": "Python 3 (ipykernel)",
   "language": "python",
   "name": "python3"
  },
  "language_info": {
   "codemirror_mode": {
    "name": "ipython",
    "version": 3
   },
   "file_extension": ".py",
   "mimetype": "text/x-python",
   "name": "python",
   "nbconvert_exporter": "python",
   "pygments_lexer": "ipython3",
   "version": "3.10.0"
  },
  "varInspector": {
   "cols": {
    "lenName": 16,
    "lenType": 16,
    "lenVar": 40
   },
   "kernels_config": {
    "python": {
     "delete_cmd_postfix": "",
     "delete_cmd_prefix": "del ",
     "library": "var_list.py",
     "varRefreshCmd": "print(var_dic_list())"
    },
    "r": {
     "delete_cmd_postfix": ") ",
     "delete_cmd_prefix": "rm(",
     "library": "var_list.r",
     "varRefreshCmd": "cat(var_dic_list()) "
    }
   },
   "types_to_exclude": [
    "module",
    "function",
    "builtin_function_or_method",
    "instance",
    "_Feature"
   ],
   "window_display": false
  }
 },
 "nbformat": 4,
 "nbformat_minor": 5
}
