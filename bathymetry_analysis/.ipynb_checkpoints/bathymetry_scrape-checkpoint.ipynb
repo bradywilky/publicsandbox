{
 "cells": [
  {
   "cell_type": "code",
   "execution_count": 9,
   "id": "0ae6f08e",
   "metadata": {},
   "outputs": [],
   "source": [
    "import requests\n",
    "import shutil\n",
    "\n",
    "from PIL import Image\n",
    "\n",
    "'''\n",
    "Looks like you have to change the three numbers to get specific spots\n",
    "https://tile5.navionics.com/tile/16/18696/25103\n",
    "'''"
   ]
  },
  {
   "cell_type": "code",
   "execution_count": 22,
   "id": "268390a4",
   "metadata": {},
   "outputs": [],
   "source": [
    "def _test_params(p1,p2,p3, img_filename = 'img.png'):\n",
    "    url = f'https://tile5.navionics.com/tile/{p1}/{p2}/{p3}?LAYERS=config_2_60_0&TRANSPARENT=TRUE&theme=0&navtoken=eyJrZXkiOiJOYXZpb25pY3Nfd2ViYXBpXzAzNzkzIiwia2V5RG9tYWluIjoidXNhLmZpc2hlcm1hcC5vcmciLCJyZWZlcmVyIjoidXNhLmZpc2hlcm1hcC5vcmciLCJyYW5kb20iOjE2NzA3Mzc0ODQwMDd9'\n",
    "    headers = {'referer': 'https://usa.fishermap.org/', 'User-Agent': 'Mozilla/5.0 (Windows NT 10.0; Win64; x64) AppleWebKit/537.36 (KHTML, like Gecko) Chrome/108.0.0.0 Safari/537.36'}\n",
    "    response = requests.get(url,headers=headers)\n",
    "\n",
    "    with open(img_filename, 'wb') as f:\n",
    "        for chunk in response.iter_content():\n",
    "            f.write(chunk)\n",
    "\n",
    "    #read the image\n",
    "    im = Image.open(img_filename)\n",
    "\n",
    "    #show image\n",
    "    im.show()"
   ]
  },
  {
   "cell_type": "code",
   "execution_count": 35,
   "id": "f92ffe83",
   "metadata": {},
   "outputs": [],
   "source": [
    "# _test_params(16,18696,25103)\n",
    "# _test_params(16,18696,25102)\n",
    "# _test_params(16,18696,25101)\n",
    "# _test_params(16,18696,25100)\n",
    "# _test_params(16,18695,25100)\n",
    "_test_params(16,18695,25101)"
   ]
  }
 ],
 "metadata": {
  "kernelspec": {
   "display_name": "Python 3 (ipykernel)",
   "language": "python",
   "name": "python3"
  },
  "language_info": {
   "codemirror_mode": {
    "name": "ipython",
    "version": 3
   },
   "file_extension": ".py",
   "mimetype": "text/x-python",
   "name": "python",
   "nbconvert_exporter": "python",
   "pygments_lexer": "ipython3",
   "version": "3.10.0"
  },
  "varInspector": {
   "cols": {
    "lenName": 16,
    "lenType": 16,
    "lenVar": 40
   },
   "kernels_config": {
    "python": {
     "delete_cmd_postfix": "",
     "delete_cmd_prefix": "del ",
     "library": "var_list.py",
     "varRefreshCmd": "print(var_dic_list())"
    },
    "r": {
     "delete_cmd_postfix": ") ",
     "delete_cmd_prefix": "rm(",
     "library": "var_list.r",
     "varRefreshCmd": "cat(var_dic_list()) "
    }
   },
   "types_to_exclude": [
    "module",
    "function",
    "builtin_function_or_method",
    "instance",
    "_Feature"
   ],
   "window_display": false
  }
 },
 "nbformat": 4,
 "nbformat_minor": 5
}
