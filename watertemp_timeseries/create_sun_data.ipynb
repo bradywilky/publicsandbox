{
 "cells": [
  {
   "cell_type": "markdown",
   "id": "0d146584-2e6a-4099-b831-64cb0b6e40ed",
   "metadata": {},
   "source": [
    "Constants from this site: https://www.timeanddate.com/sun/usa/washington-dc?month=3&year=2024"
   ]
  },
  {
   "cell_type": "code",
   "execution_count": 2,
   "id": "9a3ee253-dcad-4af9-99e3-81c81d09e422",
   "metadata": {},
   "outputs": [
    {
     "name": "stderr",
     "output_type": "stream",
     "text": [
      "C:\\Users\\15714\\AppData\\Local\\Temp\\ipykernel_17900\\54838257.py:31: FutureWarning: 'H' is deprecated and will be removed in a future version, please use 'h' instead.\n",
      "  date_range = pd.date_range(start=start_date, end=end_date, freq='H')\n"
     ]
    }
   ],
   "source": [
    "import numpy as np\n",
    "import pandas as pd\n",
    "from datetime import datetime, timedelta, time\n",
    "\n",
    "# Constants\n",
    "max_sun_hours = 14\n",
    "max_sun_minutes = 54\n",
    "max_sunrise = '04:42'\n",
    "max_sunset = '19:36'\n",
    "max_date = '06-21'\n",
    "\n",
    "min_sun_hours = 9\n",
    "min_sun_minutes = 26\n",
    "min_sunrise = '07:22'\n",
    "min_sunset = '16:48'\n",
    "min_date = '12-21'\n",
    "\n",
    "# Helper function to convert time string to minutes since midnight\n",
    "def time_to_minutes(t):\n",
    "    h, m = t.split(':')\n",
    "    return int(h) * 60 + int(m)\n",
    "\n",
    "# Interpolation function\n",
    "def interpolate_time(day_of_year, max_value, min_value, max_day_of_year, min_day_of_year):\n",
    "    # Linear interpolation\n",
    "    return min_value + (max_value - min_value) * (np.cos((day_of_year - max_day_of_year) * 2 * np.pi / 365) + 1) / 2\n",
    "\n",
    "# Prepare data range for the specified years\n",
    "start_date = datetime(2016, 1, 1)\n",
    "end_date = datetime(2024, 1, 1, 23, 59)\n",
    "date_range = pd.date_range(start=start_date, end=end_date, freq='H')\n",
    "\n",
    "# Create DataFrame\n",
    "df = pd.DataFrame(date_range, columns=['datetime'])\n",
    "df['day_of_year'] = df['datetime'].dt.dayofyear\n",
    "df['year'] = df['datetime'].dt.year\n",
    "\n",
    "# Constants for calculations\n",
    "max_sunrise_minutes = time_to_minutes(max_sunrise)\n",
    "max_sunset_minutes = time_to_minutes(max_sunset)\n",
    "min_sunrise_minutes = time_to_minutes(min_sunrise)\n",
    "min_sunset_minutes = time_to_minutes(min_sunset)\n",
    "\n",
    "# Update day_of_year calculations to be dynamic\n",
    "def get_day_of_year(date_str, year):\n",
    "    return datetime.strptime(f\"{date_str}-{year}\", '%m-%d-%Y').timetuple().tm_yday\n",
    "\n",
    "# Apply dynamic day_of_year for max and min calculations\n",
    "df['max_day_of_year'] = df['year'].apply(lambda x: get_day_of_year(max_date, x))\n",
    "df['min_day_of_year'] = df['year'].apply(lambda x: get_day_of_year(min_date, x))\n",
    "\n",
    "# Calculate sunrise and sunset times for each day\n",
    "df['sunrise'] = df.apply(lambda row: interpolate_time(row['day_of_year'], max_sunrise_minutes, min_sunrise_minutes, row['max_day_of_year'], row['min_day_of_year']), axis=1)\n",
    "df['sunset'] = df.apply(lambda row: interpolate_time(row['day_of_year'], max_sunset_minutes, min_sunset_minutes, row['max_day_of_year'], row['min_day_of_year']), axis=1)\n",
    "\n",
    "# Determine if the sun is up\n",
    "df['is_sun_up'] = df.apply(lambda row: time_to_minutes(row['datetime'].strftime('%H:%M')) >= row['sunrise'] and time_to_minutes(row['datetime'].strftime('%H:%M')) <= row['sunset'], axis=1)\n",
    "\n",
    "# Show sample data\n",
    "df[['datetime', 'is_sun_up']].head() # Display first few rows to check\n",
    "# Optionally, save to CSV\n",
    "df[['datetime', 'is_sun_up']].to_csv('sun_data_2016_2024.csv', index=False)\n"
   ]
  }
 ],
 "metadata": {
  "kernelspec": {
   "display_name": "Python 3 (ipykernel)",
   "language": "python",
   "name": "python3"
  },
  "language_info": {
   "codemirror_mode": {
    "name": "ipython",
    "version": 3
   },
   "file_extension": ".py",
   "mimetype": "text/x-python",
   "name": "python",
   "nbconvert_exporter": "python",
   "pygments_lexer": "ipython3",
   "version": "3.10.0"
  }
 },
 "nbformat": 4,
 "nbformat_minor": 5
}
