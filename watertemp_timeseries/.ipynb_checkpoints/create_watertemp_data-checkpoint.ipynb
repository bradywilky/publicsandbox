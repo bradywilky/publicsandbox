{
 "cells": [
  {
   "cell_type": "code",
   "execution_count": null,
   "id": "3474b69a-e1ae-4e0b-97ad-9980f92bf08b",
   "metadata": {},
   "outputs": [],
   "source": [
    "import requests\n",
    "from datetime import datetime, timedelta\n",
    "import pandas as pd"
   ]
  },
  {
   "cell_type": "code",
   "execution_count": null,
   "id": "59268073-b3eb-45b9-b617-8c253eb9d1f5",
   "metadata": {},
   "outputs": [],
   "source": [
    "def get_historical_water_temp_data_paginated(begin_date_str='20160101', end_date_str='20240101'):\n",
    "    base_url = \"https://api.tidesandcurrents.noaa.gov/api/prod/datagetter\"\n",
    "    begin_date = datetime.strptime(begin_date_str, '%Y%m%d')\n",
    "    end_date = datetime.strptime(end_date_str, '%Y%m%d')\n",
    "    \n",
    "    # Initialize a variable to store all the data\n",
    "    all_data = []\n",
    "    \n",
    "    while begin_date < end_date:\n",
    "        # Calculate the next end date, but not beyond the original end date or 31 days\n",
    "        next_end_date = min(begin_date + timedelta(days=30), end_date)\n",
    "        \n",
    "        # Format dates for the API request\n",
    "        formatted_begin_date = begin_date.strftime('%Y%m%d')\n",
    "        formatted_next_end_date = next_end_date.strftime('%Y%m%d')\n",
    "        \n",
    "        params = {\n",
    "            'begin_date': formatted_begin_date,\n",
    "            'end_date': formatted_next_end_date,\n",
    "            'station': '8594900',\n",
    "            'product': 'water_temperature',\n",
    "            'datum': 'MLLW',\n",
    "            'units': 'english',\n",
    "            'time_zone': 'lst',\n",
    "            'format': 'json',\n",
    "            'application': 'your_app_name',\n",
    "        }\n",
    "        \n",
    "        response = requests.get(base_url, params=params)\n",
    "        if response.status_code == 200:\n",
    "            # Append this chunk of data to all_data\n",
    "            all_data.extend(response.json().get('data', []))\n",
    "        else:\n",
    "            print(f\"Error fetching data for {formatted_begin_date} to {formatted_next_end_date}: {response.status_code}\")\n",
    "        \n",
    "        # Move the begin_date to the day after next_end_date for the next iteration\n",
    "        begin_date = next_end_date + timedelta(days=1)\n",
    "    \n",
    "    return all_data\n",
    "\n"
   ]
  },
  {
   "cell_type": "code",
   "execution_count": null,
   "id": "d9798d40-8808-4883-b258-e7f27638d9c4",
   "metadata": {},
   "outputs": [],
   "source": [
    "df = get_historical_water_temp_data_paginated()\n",
    "df['t'] = pd.to_datetime(df['t'])\n",
    "hourly_records = df[df['t'].dt.minute == 0]\n",
    "hourly_records.to_csv('water_temp_dc_2016_2024_hourly.csv')"
   ]
  }
 ],
 "metadata": {
  "kernelspec": {
   "display_name": "Python 3 (ipykernel)",
   "language": "python",
   "name": "python3"
  },
  "language_info": {
   "codemirror_mode": {
    "name": "ipython",
    "version": 3
   },
   "file_extension": ".py",
   "mimetype": "text/x-python",
   "name": "python",
   "nbconvert_exporter": "python",
   "pygments_lexer": "ipython3",
   "version": "3.10.0"
  }
 },
 "nbformat": 4,
 "nbformat_minor": 5
}
