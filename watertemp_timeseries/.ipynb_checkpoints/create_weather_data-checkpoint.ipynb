{
 "cells": [
  {
   "cell_type": "code",
   "execution_count": 28,
   "id": "5764e4fc-77ce-4275-ba2a-d8a87d606ada",
   "metadata": {},
   "outputs": [],
   "source": [
    "import pandas as pd"
   ]
  },
  {
   "cell_type": "code",
   "execution_count": 31,
   "id": "9877c3ec-4d73-40e0-a939-192d764f2070",
   "metadata": {},
   "outputs": [],
   "source": [
    "# converting timestamp to EST\n",
    "# dropping columns with only one distinct value or not useful\n",
    "def clean_weather(weather):\n",
    "    EST_UNIX_CONVERT = -18000\n",
    "    weather['dt_est'] = weather['dt'] + EST_UNIX_CONVERT\n",
    "    weather = weather.drop(\n",
    "        ['dt','dt_iso','timezone','city_name','lat','lon','sea_level','grnd_level','weather_id','weather_main','weather_description','weather_icon'],\n",
    "        axis=1\n",
    "    )\n",
    "    weather = weather.drop_duplicates()\n",
    "    return weather"
   ]
  },
  {
   "cell_type": "code",
   "execution_count": 32,
   "id": "1cdb12dd-2351-42f2-9626-0eec715c3685",
   "metadata": {},
   "outputs": [],
   "source": [
    "weather = pd.read_csv('dc_weather_2016_2024_hourly.csv')\n",
    "weather = clean_weather(weather)\n",
    "weather.to_csv('cln_dc_weather_2016_2024_hourly.csv')"
   ]
  }
 ],
 "metadata": {
  "kernelspec": {
   "display_name": "Python 3 (ipykernel)",
   "language": "python",
   "name": "python3"
  },
  "language_info": {
   "codemirror_mode": {
    "name": "ipython",
    "version": 3
   },
   "file_extension": ".py",
   "mimetype": "text/x-python",
   "name": "python",
   "nbconvert_exporter": "python",
   "pygments_lexer": "ipython3",
   "version": "3.10.0"
  }
 },
 "nbformat": 4,
 "nbformat_minor": 5
}
