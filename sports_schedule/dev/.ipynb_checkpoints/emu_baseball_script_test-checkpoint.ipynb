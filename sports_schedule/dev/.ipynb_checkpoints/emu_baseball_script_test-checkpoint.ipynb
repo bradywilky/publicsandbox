{
 "cells": [
  {
   "cell_type": "code",
   "execution_count": 1,
   "id": "2e4e629c",
   "metadata": {},
   "outputs": [],
   "source": [
    "import requests\n",
    "import json\n",
    "from datetime import datetime\n",
    "\n",
    "from bs4 import BeautifulSoup\n",
    "\n",
    "\n",
    "url = 'https://www.emuroyals.com/sports/bsb/2022-23/schedule'\n",
    "r = requests.get(url, headers={'User-Agent': 'Mozilla/5.0 (Windows NT 10.0; Win64; x64) AppleWebKit/537.36 (KHTML, like Gecko) Chrome/108.0.0.0 Safari/537.36'})\n",
    "\n",
    "soup = BeautifulSoup(r.content)"
   ]
  },
  {
   "cell_type": "code",
   "execution_count": 4,
   "id": "2f13b543",
   "metadata": {},
   "outputs": [],
   "source": [
    "with open ('dev_emu_html.txt', 'w') as f:\n",
    "    f.write(str(soup))"
   ]
  },
  {
   "cell_type": "code",
   "execution_count": 9,
   "id": "2f4a397d",
   "metadata": {},
   "outputs": [
    {
     "data": {
      "text/plain": [
       "<div class=\"event-info clearfix\">\n",
       "<div class=\"date\" title=\"Sat. February 11, 2023\"><span>Sat</span> <span>Feb</span> <span>11</span></div>\n",
       "<div class=\"va\">at</div>\n",
       "<div class=\"team-logo\" data-teamid=\"r8nis71343t575qd\">\n",
       "<img alt=\"Maryville (Tenn.)\" class=\"lazyload\" data-src=\"https://cdn.prestosports.com/action/cdn/logos/id/r8nis71343t575qd.png\"/>\n",
       "</div>\n",
       "<div class=\"event clearfix\">\n",
       "<div class=\"opponent\">\n",
       "<span class=\"font-weight-normal normal\"> <span class=\"team-name\">Maryville (Tenn.)</span>\n",
       "</span>\n",
       "</div>\n",
       "</div>\n",
       "<div class=\"status\">\t\t\t1:00 PM\n",
       "\t</div>\n",
       "<div class=\"result\">\n",
       "</div>\n",
       "<div class=\"links empty\">\n",
       "<ul> </ul> </div>\n",
       "<a class=\"venue\" href=\"#\" title=\"Away\"><span>A</span></a>\n",
       "</div>"
      ]
     },
     "execution_count": 9,
     "metadata": {},
     "output_type": "execute_result"
    }
   ],
   "source": [
    "event_list = soup.find_all('div', {'class': 'event-info clearfix'})\n",
    "event = event_list[0] # test event\n",
    "event"
   ]
  },
  {
   "cell_type": "code",
   "execution_count": 14,
   "id": "dd010944",
   "metadata": {},
   "outputs": [
    {
     "data": {
      "text/plain": [
       "'Sat. February 11, 2023'"
      ]
     },
     "execution_count": 14,
     "metadata": {},
     "output_type": "execute_result"
    }
   ],
   "source": [
    "# found the date\n",
    "date = event.find('div', {'class': 'date'}).attrs['title']\n",
    "date"
   ]
  },
  {
   "cell_type": "code",
   "execution_count": 33,
   "id": "336ea676",
   "metadata": {},
   "outputs": [
    {
     "data": {
      "text/plain": [
       "'1:00 PM'"
      ]
     },
     "execution_count": 33,
     "metadata": {},
     "output_type": "execute_result"
    }
   ],
   "source": [
    "# found the time\n",
    "time = event.find('div', {'class': 'status'}).contents[0].replace('\\t', '').replace('\\n', '')\n",
    "time"
   ]
  },
  {
   "cell_type": "code",
   "execution_count": 24,
   "id": "60336406",
   "metadata": {},
   "outputs": [
    {
     "data": {
      "text/plain": [
       "'Maryville (Tenn.)'"
      ]
     },
     "execution_count": 24,
     "metadata": {},
     "output_type": "execute_result"
    }
   ],
   "source": [
    "# found the other team\n",
    "opp = event.find('span', {'class': 'font-weight-normal normal'}).find('span', {'class': 'team-name'}).contents[0]\n",
    "opp"
   ]
  },
  {
   "cell_type": "code",
   "execution_count": 28,
   "id": "339f72a1",
   "metadata": {},
   "outputs": [
    {
     "data": {
      "text/plain": [
       "'Away'"
      ]
     },
     "execution_count": 28,
     "metadata": {},
     "output_type": "execute_result"
    }
   ],
   "source": [
    "# found the venue\n",
    "venue = event.find('a').attrs['title']\n",
    "venue"
   ]
  },
  {
   "cell_type": "code",
   "execution_count": 51,
   "id": "223af002",
   "metadata": {},
   "outputs": [],
   "source": [
    "def _get_date(event):\n",
    "    return event.find('div', {'class': 'date'}).attrs['title']\n",
    "\n",
    "def _get_time(event):\n",
    "    return event.find('div', {'class': 'status'}).contents[0].replace('\\t', '').replace('\\n', '')\n",
    "\n",
    "def _get_venue(event):\n",
    "    if len(event.find_all('a')) > 1:\n",
    "        return event.find_all('a')[-1].attrs['title']\n",
    "    else:\n",
    "        return event.find('a').attrs['title']\n",
    "\n",
    "def _get_opp(event):\n",
    "    if _get_venue(event) != 'Home':\n",
    "        return event.find('span', {'class': 'font-weight-normal normal'}).find('span', {'class': 'team-name'}).contents[0]\n",
    "    else:\n",
    "        return event.find('span', {'class': 'font-weight-bold bold'}).find('span', {'class': 'team-name'}).contents[0]"
   ]
  },
  {
   "cell_type": "code",
   "execution_count": 52,
   "id": "28189ade",
   "metadata": {},
   "outputs": [
    {
     "name": "stdout",
     "output_type": "stream",
     "text": [
      "Sat. February 11, 2023 1:00 PM Away Maryville (Tenn.)\n",
      "Sat. February 11, 2023 4:00 PM Away Maryville (Tenn.)\n",
      "Sun. February 12, 2023 1:00 PM Away Maryville (Tenn.)\n",
      "Wed. February 15, 2023 2:00 PM Away Christopher Newport\n",
      "Sat. February 18, 2023 11:00 AM Home Susquehanna\n",
      "Sat. February 18, 2023 2:00 PM Home Susquehanna\n",
      "Sun. February 19, 2023 1:00 PM Home Susquehanna\n",
      "Tue. February 21, 2023 3:00 PM Home Mary Baldwin\n",
      "Sat. February 25, 2023 12:00 PM Home Oneonta\n",
      "Sat. February 25, 2023 3:00 PM Home Oneonta\n",
      "Sun. March 05, 2023 2:45 PM Neutral Penn St. Brandywine\n",
      "Mon. March 06, 2023 9:45 AM Neutral Waynesburg\n",
      "Tue. March 07, 2023 9:45 AM Neutral Pitt.-Greensburg\n",
      "Sat. March 11, 2023 12:00 PM Home Roanoke\n",
      "Sat. March 11, 2023 3:00 PM Home Roanoke\n",
      "Tue. March 14, 2023 3:00 PM Home Washington and Lee\n",
      "Sat. March 18, 2023 12:00 PM Away Virginia Wesleyan\n",
      "Sat. March 18, 2023 3:00 PM Away Virginia Wesleyan\n",
      "Tue. March 21, 2023 3:00 PM Home Trinity (Conn.)\n",
      "Wed. March 22, 2023 3:00 PM Away Washington and Lee\n",
      "Sat. March 25, 2023 12:00 PM Home Ferrum\n",
      "Sat. March 25, 2023 3:00 PM Home Ferrum\n",
      "Tue. March 28, 2023 4:00 PM Away Shenandoah\n",
      "Sat. April 01, 2023 12:00 PM Away Lynchburg\n",
      "Sat. April 01, 2023 3:00 PM Away Lynchburg\n",
      "Tue. April 04, 2023 3:00 PM Home Christopher Newport\n",
      "Wed. April 05, 2023 4:00 PM Home Bridgewater\n",
      "Sat. April 08, 2023 12:00 PM Away Hampden-Sydney\n",
      "Sat. April 08, 2023 3:00 PM Away Hampden-Sydney\n",
      "Tue. April 11, 2023 3:00 PM Home Mary Baldwin\n",
      "Thu. April 13, 2023 4:00 PM Home Mary Washington\n",
      "Sat. April 15, 2023 12:00 PM Home Guilford\n",
      "Sat. April 15, 2023 3:00 PM Home Guilford\n",
      "Wed. April 19, 2023 4:00 PM Away Bridgewater\n",
      "Sat. April 22, 2023 12:00 PM Home Randolph-Macon\n",
      "Sat. April 22, 2023 3:00 PM Home Randolph-Macon\n",
      "Tue. April 25, 2023 3:30 PM Home Shenandoah\n",
      "Sat. April 29, 2023 12:00 PM Away Averett\n",
      "Sat. April 29, 2023 3:00 PM Away Averett\n"
     ]
    }
   ],
   "source": [
    "for i in event_list:\n",
    "    print(_get_date(i), _get_time(i), _get_venue(i), _get_opp(i))"
   ]
  }
 ],
 "metadata": {
  "kernelspec": {
   "display_name": "Python 3 (ipykernel)",
   "language": "python",
   "name": "python3"
  },
  "language_info": {
   "codemirror_mode": {
    "name": "ipython",
    "version": 3
   },
   "file_extension": ".py",
   "mimetype": "text/x-python",
   "name": "python",
   "nbconvert_exporter": "python",
   "pygments_lexer": "ipython3",
   "version": "3.10.0"
  }
 },
 "nbformat": 4,
 "nbformat_minor": 5
}
