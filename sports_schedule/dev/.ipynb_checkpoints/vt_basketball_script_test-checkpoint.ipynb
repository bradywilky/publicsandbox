{
 "cells": [
  {
   "cell_type": "code",
   "execution_count": 2,
   "id": "c4fc189d",
   "metadata": {},
   "outputs": [
    {
     "name": "stdout",
     "output_type": "stream",
     "text": [
      "Virginia Tech At Georgia Tech on 2/15/2023 7:00:00 PM\n",
      "Virginia Tech At Louisville on 2/28/2023 9:00:00 PM\n",
      "Virginia Tech Vs Boston College on 2/8/2023 7:00:00 PM\n",
      "Virginia Tech At Notre Dame on 2/11/2023 2:00:00 PM\n",
      "Virginia Tech Vs Duke on 1/23/2023 7:00:00 PM\n",
      "Virginia Tech At Duke on 2/25/2023 12:00:00 AM\n",
      "Virginia Tech Vs Miami on 2/21/2023 7:00:00 PM\n",
      "Virginia Tech At Miami on 1/31/2023 7:00:00 PM\n",
      "Virginia Tech Vs First Round-Championship on 3/7/2023 12:00:00 AM\n",
      "Virginia Tech Vs Pitt on 2/18/2023 5:00:00 PM\n",
      "Virginia Tech Vs Virginia on 2/4/2023 12:00:00 PM\n",
      "Virginia Tech Vs Florida State on 3/4/2023 12:00:00 AM\n",
      "Virginia Tech Vs Syracuse on 1/28/2023 7:00:00 PM\n",
      "Virginia Tech At Clemson on 1/21/2023 6:00:00 PM\n"
     ]
    }
   ],
   "source": [
    "import requests\n",
    "import json\n",
    "from datetime import datetime\n",
    "\n",
    "from bs4 import BeautifulSoup\n",
    "\n",
    "\n",
    "url = 'https://hokiesports.com/sports/mens-basketball/schedule/2022-23'\n",
    "r = requests.get(url, headers={'User-Agent': 'Mozilla/5.0 (Windows NT 10.0; Win64; x64) AppleWebKit/537.36 (KHTML, like Gecko) Chrome/108.0.0.0 Safari/537.36'})\n",
    "\n",
    "soup = BeautifulSoup(r.content)\n",
    "\n",
    "games_html = [y for y in soup.find_all('script') if 'type' in y.attrs.keys() and y.attrs['type'] == 'application/ld+json'][0]\n",
    "\n",
    "games_json = json.loads(str(games_html.contents[0]))\n",
    "\n",
    "today = datetime.today()\n",
    "\n",
    "for g in games_json:\n",
    "    if datetime.strptime(g['startDate'], '%Y-%m-%dT%H:%M:%S') >= today:\n",
    "        print(g['description'])"
   ]
  }
 ],
 "metadata": {
  "kernelspec": {
   "display_name": "Python 3 (ipykernel)",
   "language": "python",
   "name": "python3"
  },
  "language_info": {
   "codemirror_mode": {
    "name": "ipython",
    "version": 3
   },
   "file_extension": ".py",
   "mimetype": "text/x-python",
   "name": "python",
   "nbconvert_exporter": "python",
   "pygments_lexer": "ipython3",
   "version": "3.10.0"
  },
  "varInspector": {
   "cols": {
    "lenName": 16,
    "lenType": 16,
    "lenVar": 40
   },
   "kernels_config": {
    "python": {
     "delete_cmd_postfix": "",
     "delete_cmd_prefix": "del ",
     "library": "var_list.py",
     "varRefreshCmd": "print(var_dic_list())"
    },
    "r": {
     "delete_cmd_postfix": ") ",
     "delete_cmd_prefix": "rm(",
     "library": "var_list.r",
     "varRefreshCmd": "cat(var_dic_list()) "
    }
   },
   "types_to_exclude": [
    "module",
    "function",
    "builtin_function_or_method",
    "instance",
    "_Feature"
   ],
   "window_display": false
  }
 },
 "nbformat": 4,
 "nbformat_minor": 5
}
