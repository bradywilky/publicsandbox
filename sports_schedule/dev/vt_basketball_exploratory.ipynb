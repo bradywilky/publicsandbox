{
 "cells": [
  {
   "cell_type": "code",
   "execution_count": 5,
   "id": "ea06e211",
   "metadata": {},
   "outputs": [
    {
     "data": {
      "text/plain": [
       "<script>window.client_hostname = \"hokiesports.com\";window.client_title = \"Virginia Tech\";window.server_name = \"1129028-LB22\";window.client_division = \"DI\";window.targetting_criteria = {\"page_template\":\"schedule-list\",\"sport_name\":\"mbball\",\"sport_name_custom\":\"mbball\",\"site\":\"vatech\",\"cbs_site_code\":\"vtec\",\"content_id\":null,\"sect\":\"mbaskbl\"};window.client_shortname = \"vatech\";window.dfp_network_code = \"21708449227\";window.img_dfp_unit_name = \"/VT\";window.ad_full_unit_name = \"VATECH\";window.block_dfp = false;window.reactions = null;window.cbs_ads_activated = false;window.site_colors = {\"safe_text_white\":\"#640031\",\"safe_text_black\":\"#ffffff\",\"primary_background\":\"#640031\",\"primary_text\":\"#ffffff\",\"secondary_background\":\"#CF4520\",\"secondary_text\":\"#ffffff\"};window.inactive_tab_title = \"\";window.site_in_dev_mode = false;window.sidearm_header_bidding_enabled = true;\n",
       "                    window.utagData = function() {\n",
       "                        return {\n",
       "                            embedPageUrl: location.href,\n",
       "                            brandPlatformId: \"sidearm_site_\" + (document.documentElement.clientWidth > 600 ? \"desktop\" : \"mweb\"),\n",
       "                            pageViewGuid: PageTargetting.getPageviewGuid(),\n",
       "                            _pageViewGuid: PageTargetting.getPageviewGuid() // cbs says they need it both /shrug\n",
       "                        };\n",
       "                    };\n",
       "                </script>"
      ]
     },
     "execution_count": 5,
     "metadata": {},
     "output_type": "execute_result"
    }
   ],
   "source": [
    "from bs4 import BeautifulSoup\n",
    "import requests\n",
    "import re\n",
    "import json\n",
    "import pandas as pd\n",
    "\n",
    "url = 'https://hokiesports.com/sports/mens-basketball/schedule/2022-23'\n",
    "r = requests.get(url, headers={'User-Agent': 'Mozilla/5.0 (Windows NT 10.0; Win64; x64) AppleWebKit/537.36 (KHTML, like Gecko) Chrome/108.0.0.0 Safari/537.36'})\n",
    "\n",
    "soup = BeautifulSoup(r.content)\n",
    "\n",
    "print(soup)"
   ]
  },
  {
   "cell_type": "markdown",
   "id": "5823a24e",
   "metadata": {},
   "source": [
    "#### The games appear to be in the 'script' tags. I found that the games are in the 7th 'script' tag:"
   ]
  },
  {
   "cell_type": "code",
   "execution_count": 46,
   "id": "4a02e304",
   "metadata": {},
   "outputs": [
    {
     "data": {
      "text/plain": [
       "<script type=\"application/ld+json\">[{\"@context\":\"https://schema.org/\",\"name\":\"Virginia Tech Vs Oklahoma State\",\"url\":null,\"homeTeam\":{\"@type\":\"SportsTeam\",\"sameAs\":null,\"name\":\"Virginia Tech\"},\"awayTeam\":{\"@type\":\"SportsTeam\",\"sameAs\":null,\"name\":\"Oklahoma State\"},\"startDate\":\"2022-12-11T14:00:00\",\"endDate\":\"2022-12-11T14:00:00\",\"eventStatus\":null,\"location\":{\"sameAs\":null,\"image\":null,\"@type\":\"Place\",\"name\":\"Barclays Center\",\"address\":{\"streetAddress\":\"Brooklyn, N.Y.\",\"postalCode\":null,\"addressLocality\":null,\"addressRegion\":null,\"addressCountry\":null,\"@type\":\"PostalAddress\"},\"telephone\":null,\"priceRange\":null},\"description\":\"Virginia Tech Vs Oklahoma State on 12/11/2022 2:00:00 PM\",\"image\":{\"url\":\"https://hokiesports.com/images/logos/site/site.png\",\"width\":50,\"height\":50,\"@type\":\"ImageObject\"},\"@type\":\"SportsEvent\"},{\"@context\":\"https://schema.org/\",\"name\":\"Virginia Tech Vs Minnesota\",\"url\":null,\"homeTeam\":{\"@type\":\"SportsTeam\",\"sameAs\":null,\"name\":\"Virginia Tech\"},\"awayTeam\":{\"@type\":\"SportsTeam\",\"sameAs\":null,\"name\":\"Minnesota\"},\"startDate\":\"2022-11-28T19:00:00\",\"endDate\":\"2022-11-28T19:00:00\",\"eventStatus\":null,\"location\":{\"sameAs\":null,\"image\":null,\"@type\":\"Place\",\"name\":\"Cassell Coliseum\",\"address\":{\"streetAddress\":\"Blacksburg, Va.\",\"postalCode\":null,\"addressLocality\":null,\"addressRegion\":null,\"addressCountry\":null,\"@type\":\"PostalAddress\"},\"telephone\":null,\"priceRange\":null},\"description\":\"Virginia Tech Vs Minnesota on 11/28/2022 7:00:00 PM\",\"image\":{\"url\":\"https://hokiesports.com/images/logos/site/site.png\",\"width\":50,\"height\":50,\"@type\":\"ImageObject\"},\"@type\":\"SportsEvent\"},{\"@context\":\"https://schema.org/\",\"name\":\"Virginia Tech Vs Old Dominion\",\"url\":null,\"homeTeam\":{\"@type\":\"SportsTeam\",\"sameAs\":null,\"name\":\"Virginia Tech\"},\"awayTeam\":{\"@type\":\"SportsTeam\",\"sameAs\":null,\"name\":\"Old Dominion\"},\"startDate\":\"2022-11-17T14:00:00\",\"endDate\":\"2022-11-17T14:00:00\",\"eventStatus\":null,\"location\":{\"sameAs\":null,\"image\":null,\"@type\":\"Place\",\"name\":\"Charleston, S.C.\",\"address\":{\"streetAddress\":\"Charleston, S.C.\",\"postalCode\":null,\"addressLocality\":null,\"addressRegion\":null,\"addressCountry\":null,\"@type\":\"PostalAddress\"},\"telephone\":null,\"priceRange\":null},\"description\":\"Virginia Tech Vs Old Dominion on 11/17/2022 2:00:00 PM\",\"image\":{\"url\":\"https://hokiesports.com/images/logos/site/site.png\",\"width\":50,\"height\":50,\"@type\":\"ImageObject\"},\"@type\":\"SportsEvent\"},{\"@context\":\"https://schema.org/\",\"name\":\"Virginia Tech Vs Penn State\",\"url\":null,\"homeTeam\":{\"@type\":\"SportsTeam\",\"sameAs\":null,\"name\":\"Virginia Tech\"},\"awayTeam\":{\"@type\":\"SportsTeam\",\"sameAs\":null,\"name\":\"Penn State\"},\"startDate\":\"2022-11-18T12:00:00\",\"endDate\":\"2022-11-18T12:00:00\",\"eventStatus\":null,\"location\":{\"sameAs\":null,\"image\":null,\"@type\":\"Place\",\"name\":\"Charleston, S.C.\",\"address\":{\"streetAddress\":\"Charleston, S.C.\",\"postalCode\":null,\"addressLocality\":null,\"addressRegion\":null,\"addressCountry\":null,\"@type\":\"PostalAddress\"},\"telephone\":null,\"priceRange\":null},\"description\":\"Virginia Tech Vs Penn State on 11/18/2022 12:00:00 PM\",\"image\":{\"url\":\"https://hokiesports.com/images/logos/site/site.png\",\"width\":50,\"height\":50,\"@type\":\"ImageObject\"},\"@type\":\"SportsEvent\"},{\"@context\":\"https://schema.org/\",\"name\":\"Virginia Tech At College of Charleston\",\"url\":null,\"homeTeam\":{\"@type\":\"SportsTeam\",\"sameAs\":null,\"name\":\"Virginia Tech\"},\"awayTeam\":{\"@type\":\"SportsTeam\",\"sameAs\":null,\"name\":\"College of Charleston\"},\"startDate\":\"2022-11-20T15:30:00\",\"endDate\":\"2022-11-20T15:30:00\",\"eventStatus\":null,\"location\":{\"sameAs\":null,\"image\":null,\"@type\":\"Place\",\"name\":\"Charleston, SC\",\"address\":{\"streetAddress\":\"Charleston, SC\",\"postalCode\":null,\"addressLocality\":null,\"addressRegion\":null,\"addressCountry\":null,\"@type\":\"PostalAddress\"},\"telephone\":null,\"priceRange\":null},\"description\":\"Virginia Tech At College of Charleston on 11/20/2022 3:30:00 PM\",\"image\":{\"url\":\"https://hokiesports.com/images/logos/site/site.png\",\"width\":50,\"height\":50,\"@type\":\"ImageObject\"},\"@type\":\"SportsEvent\"},{\"@context\":\"https://schema.org/\",\"name\":\"Virginia Tech Vs Delaware State\",\"url\":null,\"homeTeam\":{\"@type\":\"SportsTeam\",\"sameAs\":null,\"name\":\"Virginia Tech\"},\"awayTeam\":{\"@type\":\"SportsTeam\",\"sameAs\":null,\"name\":\"Delaware State\"},\"startDate\":\"2022-11-07T21:00:00\",\"endDate\":\"2022-11-07T21:00:00\",\"eventStatus\":null,\"location\":{\"sameAs\":null,\"image\":null,\"@type\":\"Place\",\"name\":\"Cassell Coliseum\",\"address\":{\"streetAddress\":\"Blacksburg, Va.\",\"postalCode\":null,\"addressLocality\":null,\"addressRegion\":null,\"addressCountry\":null,\"@type\":\"PostalAddress\"},\"telephone\":null,\"priceRange\":null},\"description\":\"Virginia Tech Vs Delaware State on 11/7/2022 9:00:00 PM\",\"image\":{\"url\":\"https://hokiesports.com/images/logos/site/site.png\",\"width\":50,\"height\":50,\"@type\":\"ImageObject\"},\"@type\":\"SportsEvent\"},{\"@context\":\"https://schema.org/\",\"name\":\"Virginia Tech Vs Lehigh\",\"url\":null,\"homeTeam\":{\"@type\":\"SportsTeam\",\"sameAs\":null,\"name\":\"Virginia Tech\"},\"awayTeam\":{\"@type\":\"SportsTeam\",\"sameAs\":null,\"name\":\"Lehigh\"},\"startDate\":\"2022-11-10T18:00:00\",\"endDate\":\"2022-11-10T18:00:00\",\"eventStatus\":null,\"location\":{\"sameAs\":null,\"image\":null,\"@type\":\"Place\",\"name\":\"Cassell Coliseum\",\"address\":{\"streetAddress\":\"Blacksburg, Va.\",\"postalCode\":null,\"addressLocality\":null,\"addressRegion\":null,\"addressCountry\":null,\"@type\":\"PostalAddress\"},\"telephone\":null,\"priceRange\":null},\"description\":\"Virginia Tech Vs Lehigh on 11/10/2022 6:00:00 PM\",\"image\":{\"url\":\"https://hokiesports.com/images/logos/site/site.png\",\"width\":50,\"height\":50,\"@type\":\"ImageObject\"},\"@type\":\"SportsEvent\"},{\"@context\":\"https://schema.org/\",\"name\":\"Virginia Tech Vs William & Mary\",\"url\":null,\"homeTeam\":{\"@type\":\"SportsTeam\",\"sameAs\":null,\"name\":\"Virginia Tech\"},\"awayTeam\":{\"@type\":\"SportsTeam\",\"sameAs\":null,\"name\":\"William & Mary\"},\"startDate\":\"2022-11-13T18:00:00\",\"endDate\":\"2022-11-13T18:00:00\",\"eventStatus\":null,\"location\":{\"sameAs\":null,\"image\":null,\"@type\":\"Place\",\"name\":\"Cassell Coliseum\",\"address\":{\"streetAddress\":\"Blacksburg, Va.\",\"postalCode\":null,\"addressLocality\":null,\"addressRegion\":null,\"addressCountry\":null,\"@type\":\"PostalAddress\"},\"telephone\":null,\"priceRange\":null},\"description\":\"Virginia Tech Vs William & Mary on 11/13/2022 6:00:00 PM\",\"image\":{\"url\":\"https://hokiesports.com/images/logos/site/site.png\",\"width\":50,\"height\":50,\"@type\":\"ImageObject\"},\"@type\":\"SportsEvent\"},{\"@context\":\"https://schema.org/\",\"name\":\"Virginia Tech Vs Charleston Southern\",\"url\":null,\"homeTeam\":{\"@type\":\"SportsTeam\",\"sameAs\":null,\"name\":\"Virginia Tech\"},\"awayTeam\":{\"@type\":\"SportsTeam\",\"sameAs\":null,\"name\":\"Charleston Southern\"},\"startDate\":\"2022-11-25T20:00:00\",\"endDate\":\"2022-11-25T20:00:00\",\"eventStatus\":null,\"location\":{\"sameAs\":null,\"image\":null,\"@type\":\"Place\",\"name\":\"Cassell Coliseum\",\"address\":{\"streetAddress\":\"Blacksburg, Va.\",\"postalCode\":null,\"addressLocality\":null,\"addressRegion\":null,\"addressCountry\":null,\"@type\":\"PostalAddress\"},\"telephone\":null,\"priceRange\":null},\"description\":\"Virginia Tech Vs Charleston Southern on 11/25/2022 8:00:00 PM\",\"image\":{\"url\":\"https://hokiesports.com/images/logos/site/site.png\",\"width\":50,\"height\":50,\"@type\":\"ImageObject\"},\"@type\":\"SportsEvent\"},{\"@context\":\"https://schema.org/\",\"name\":\"Virginia Tech Vs Dayton\",\"url\":null,\"homeTeam\":{\"@type\":\"SportsTeam\",\"sameAs\":null,\"name\":\"Virginia Tech\"},\"awayTeam\":{\"@type\":\"SportsTeam\",\"sameAs\":null,\"name\":\"Dayton\"},\"startDate\":\"2022-12-07T20:00:00\",\"endDate\":\"2022-12-07T20:00:00\",\"eventStatus\":null,\"location\":{\"sameAs\":null,\"image\":null,\"@type\":\"Place\",\"name\":\"Cassell Coliseum\",\"address\":{\"streetAddress\":\"Blacksburg, Va.\",\"postalCode\":null,\"addressLocality\":null,\"addressRegion\":null,\"addressCountry\":null,\"@type\":\"PostalAddress\"},\"telephone\":null,\"priceRange\":null},\"description\":\"Virginia Tech Vs Dayton on 12/7/2022 8:00:00 PM\",\"image\":{\"url\":\"https://hokiesports.com/images/logos/site/site.png\",\"width\":50,\"height\":50,\"@type\":\"ImageObject\"},\"@type\":\"SportsEvent\"},{\"@context\":\"https://schema.org/\",\"name\":\"Virginia Tech Vs Grambling State\",\"url\":null,\"homeTeam\":{\"@type\":\"SportsTeam\",\"sameAs\":null,\"name\":\"Virginia Tech\"},\"awayTeam\":{\"@type\":\"SportsTeam\",\"sameAs\":null,\"name\":\"Grambling State\"},\"startDate\":\"2022-12-17T16:00:00\",\"endDate\":\"2022-12-17T16:00:00\",\"eventStatus\":null,\"location\":{\"sameAs\":null,\"image\":null,\"@type\":\"Place\",\"name\":\"Cassell Coliseum\",\"address\":{\"streetAddress\":\"Blacksburg, Va.\",\"postalCode\":null,\"addressLocality\":null,\"addressRegion\":null,\"addressCountry\":null,\"@type\":\"PostalAddress\"},\"telephone\":null,\"priceRange\":null},\"description\":\"Virginia Tech Vs Grambling State on 12/17/2022 4:00:00 PM\",\"image\":{\"url\":\"https://hokiesports.com/images/logos/site/site.png\",\"width\":50,\"height\":50,\"@type\":\"ImageObject\"},\"@type\":\"SportsEvent\"},{\"@context\":\"https://schema.org/\",\"name\":\"Virginia Tech Vs North Carolina\",\"url\":null,\"homeTeam\":{\"@type\":\"SportsTeam\",\"sameAs\":null,\"name\":\"Virginia Tech\"},\"awayTeam\":{\"@type\":\"SportsTeam\",\"sameAs\":null,\"name\":\"North Carolina\"},\"startDate\":\"2022-12-04T15:00:00\",\"endDate\":\"2022-12-04T15:00:00\",\"eventStatus\":null,\"location\":{\"sameAs\":null,\"image\":null,\"@type\":\"Place\",\"name\":\"Cassell Coliseum\",\"address\":{\"streetAddress\":\"Blacksburg, Va.\",\"postalCode\":null,\"addressLocality\":null,\"addressRegion\":null,\"addressCountry\":null,\"@type\":\"PostalAddress\"},\"telephone\":null,\"priceRange\":null},\"description\":\"Virginia Tech Vs North Carolina on 12/4/2022 3:00:00 PM\",\"image\":{\"url\":\"https://hokiesports.com/images/logos/site/site.png\",\"width\":50,\"height\":50,\"@type\":\"ImageObject\"},\"@type\":\"SportsEvent\"},{\"@context\":\"https://schema.org/\",\"name\":\"Virginia Tech At Boston College\",\"url\":null,\"homeTeam\":{\"@type\":\"SportsTeam\",\"sameAs\":null,\"name\":\"Virginia Tech\"},\"awayTeam\":{\"@type\":\"SportsTeam\",\"sameAs\":null,\"name\":\"Boston College\"},\"startDate\":\"2022-12-21T18:30:00\",\"endDate\":\"2022-12-21T18:30:00\",\"eventStatus\":null,\"location\":{\"sameAs\":null,\"image\":null,\"@type\":\"Place\",\"name\":\"Chestnut Hill, Mass.\",\"address\":{\"streetAddress\":\"Chestnut Hill, Mass.\",\"postalCode\":null,\"addressLocality\":null,\"addressRegion\":null,\"addressCountry\":null,\"@type\":\"PostalAddress\"},\"telephone\":null,\"priceRange\":null},\"description\":\"Virginia Tech At Boston College on 12/21/2022 6:30:00 PM\",\"image\":{\"url\":\"https://hokiesports.com/images/logos/site/site.png\",\"width\":50,\"height\":50,\"@type\":\"ImageObject\"},\"@type\":\"SportsEvent\"},{\"@context\":\"https://schema.org/\",\"name\":\"Virginia Tech At Wake Forest\",\"url\":null,\"homeTeam\":{\"@type\":\"SportsTeam\",\"sameAs\":null,\"name\":\"Virginia Tech\"},\"awayTeam\":{\"@type\":\"SportsTeam\",\"sameAs\":null,\"name\":\"Wake Forest\"},\"startDate\":\"2022-12-31T12:00:00\",\"endDate\":\"2022-12-31T12:00:00\",\"eventStatus\":null,\"location\":{\"sameAs\":null,\"image\":null,\"@type\":\"Place\",\"name\":\"Winston-Salem, N.C.\",\"address\":{\"streetAddress\":\"Winston-Salem, N.C.\",\"postalCode\":null,\"addressLocality\":null,\"addressRegion\":null,\"addressCountry\":null,\"@type\":\"PostalAddress\"},\"telephone\":null,\"priceRange\":null},\"description\":\"Virginia Tech At Wake Forest on 12/31/2022 12:00:00 PM\",\"image\":{\"url\":\"https://hokiesports.com/images/logos/site/site.png\",\"width\":50,\"height\":50,\"@type\":\"ImageObject\"},\"@type\":\"SportsEvent\"},{\"@context\":\"https://schema.org/\",\"name\":\"Virginia Tech Vs Clemson\",\"url\":null,\"homeTeam\":{\"@type\":\"SportsTeam\",\"sameAs\":null,\"name\":\"Virginia Tech\"},\"awayTeam\":{\"@type\":\"SportsTeam\",\"sameAs\":null,\"name\":\"Clemson\"},\"startDate\":\"2023-01-04T21:00:00\",\"endDate\":\"2023-01-04T21:00:00\",\"eventStatus\":null,\"location\":{\"sameAs\":null,\"image\":null,\"@type\":\"Place\",\"name\":\"Cassell Coliseum\",\"address\":{\"streetAddress\":\"Blacksburg, Va.\",\"postalCode\":null,\"addressLocality\":null,\"addressRegion\":null,\"addressCountry\":null,\"@type\":\"PostalAddress\"},\"telephone\":null,\"priceRange\":null},\"description\":\"Virginia Tech Vs Clemson on 1/4/2023 9:00:00 PM\",\"image\":{\"url\":\"https://hokiesports.com/images/logos/site/site.png\",\"width\":50,\"height\":50,\"@type\":\"ImageObject\"},\"@type\":\"SportsEvent\"},{\"@context\":\"https://schema.org/\",\"name\":\"Virginia Tech Vs NC State\",\"url\":null,\"homeTeam\":{\"@type\":\"SportsTeam\",\"sameAs\":null,\"name\":\"Virginia Tech\"},\"awayTeam\":{\"@type\":\"SportsTeam\",\"sameAs\":null,\"name\":\"NC State\"},\"startDate\":\"2023-01-07T19:30:00\",\"endDate\":\"2023-01-07T19:30:00\",\"eventStatus\":null,\"location\":{\"sameAs\":null,\"image\":null,\"@type\":\"Place\",\"name\":\"Cassell Coliseum\",\"address\":{\"streetAddress\":\"Blacksburg, Va.\",\"postalCode\":null,\"addressLocality\":null,\"addressRegion\":null,\"addressCountry\":null,\"@type\":\"PostalAddress\"},\"telephone\":null,\"priceRange\":null},\"description\":\"Virginia Tech Vs NC State on 1/7/2023 7:30:00 PM\",\"image\":{\"url\":\"https://hokiesports.com/images/logos/site/site.png\",\"width\":50,\"height\":50,\"@type\":\"ImageObject\"},\"@type\":\"SportsEvent\"},{\"@context\":\"https://schema.org/\",\"name\":\"Virginia Tech At Syracuse\",\"url\":null,\"homeTeam\":{\"@type\":\"SportsTeam\",\"sameAs\":null,\"name\":\"Virginia Tech\"},\"awayTeam\":{\"@type\":\"SportsTeam\",\"sameAs\":null,\"name\":\"Syracuse\"},\"startDate\":\"2023-01-11T19:00:00\",\"endDate\":\"2023-01-11T19:00:00\",\"eventStatus\":null,\"location\":{\"sameAs\":null,\"image\":null,\"@type\":\"Place\",\"name\":\"Syracuse, N.Y.\",\"address\":{\"streetAddress\":\"Syracuse, N.Y.\",\"postalCode\":null,\"addressLocality\":null,\"addressRegion\":null,\"addressCountry\":null,\"@type\":\"PostalAddress\"},\"telephone\":null,\"priceRange\":null},\"description\":\"Virginia Tech At Syracuse on 1/11/2023 7:00:00 PM\",\"image\":{\"url\":\"https://hokiesports.com/images/logos/site/site.png\",\"width\":50,\"height\":50,\"@type\":\"ImageObject\"},\"@type\":\"SportsEvent\"},{\"@context\":\"https://schema.org/\",\"name\":\"Virginia Tech At Virginia\",\"url\":null,\"homeTeam\":{\"@type\":\"SportsTeam\",\"sameAs\":null,\"name\":\"Virginia Tech\"},\"awayTeam\":{\"@type\":\"SportsTeam\",\"sameAs\":null,\"name\":\"Virginia\"},\"startDate\":\"2023-01-18T19:00:00\",\"endDate\":\"2023-01-18T19:00:00\",\"eventStatus\":null,\"location\":{\"sameAs\":null,\"image\":null,\"@type\":\"Place\",\"name\":\"Charlottesville, Va.\",\"address\":{\"streetAddress\":\"Charlottesville, Va.\",\"postalCode\":null,\"addressLocality\":null,\"addressRegion\":null,\"addressCountry\":null,\"@type\":\"PostalAddress\"},\"telephone\":null,\"priceRange\":null},\"description\":\"Virginia Tech At Virginia on 1/18/2023 7:00:00 PM\",\"image\":{\"url\":\"https://hokiesports.com/images/logos/site/site.png\",\"width\":50,\"height\":50,\"@type\":\"ImageObject\"},\"@type\":\"SportsEvent\"},{\"@context\":\"https://schema.org/\",\"name\":\"Virginia Tech At Clemson\",\"url\":null,\"homeTeam\":{\"@type\":\"SportsTeam\",\"sameAs\":null,\"name\":\"Virginia Tech\"},\"awayTeam\":{\"@type\":\"SportsTeam\",\"sameAs\":null,\"name\":\"Clemson\"},\"startDate\":\"2023-01-21T18:00:00\",\"endDate\":\"2023-01-21T18:00:00\",\"eventStatus\":null,\"location\":{\"sameAs\":null,\"image\":null,\"@type\":\"Place\",\"name\":\"Clemson, S.C.\",\"address\":{\"streetAddress\":\"Clemson, S.C.\",\"postalCode\":null,\"addressLocality\":null,\"addressRegion\":null,\"addressCountry\":null,\"@type\":\"PostalAddress\"},\"telephone\":null,\"priceRange\":null},\"description\":\"Virginia Tech At Clemson on 1/21/2023 6:00:00 PM\",\"image\":{\"url\":\"https://hokiesports.com/images/logos/site/site.png\",\"width\":50,\"height\":50,\"@type\":\"ImageObject\"},\"@type\":\"SportsEvent\"},{\"@context\":\"https://schema.org/\",\"name\":\"Virginia Tech Vs Duke\",\"url\":null,\"homeTeam\":{\"@type\":\"SportsTeam\",\"sameAs\":null,\"name\":\"Virginia Tech\"},\"awayTeam\":{\"@type\":\"SportsTeam\",\"sameAs\":null,\"name\":\"Duke\"},\"startDate\":\"2023-01-23T19:00:00\",\"endDate\":\"2023-01-23T19:00:00\",\"eventStatus\":null,\"location\":{\"sameAs\":null,\"image\":null,\"@type\":\"Place\",\"name\":\"Cassell Coliseum\",\"address\":{\"streetAddress\":\"Blacksburg, Va.\",\"postalCode\":null,\"addressLocality\":null,\"addressRegion\":null,\"addressCountry\":null,\"@type\":\"PostalAddress\"},\"telephone\":null,\"priceRange\":null},\"description\":\"Virginia Tech Vs Duke on 1/23/2023 7:00:00 PM\",\"image\":{\"url\":\"https://hokiesports.com/images/logos/site/site.png\",\"width\":50,\"height\":50,\"@type\":\"ImageObject\"},\"@type\":\"SportsEvent\"},{\"@context\":\"https://schema.org/\",\"name\":\"Virginia Tech Vs Syracuse\",\"url\":null,\"homeTeam\":{\"@type\":\"SportsTeam\",\"sameAs\":null,\"name\":\"Virginia Tech\"},\"awayTeam\":{\"@type\":\"SportsTeam\",\"sameAs\":null,\"name\":\"Syracuse\"},\"startDate\":\"2023-01-28T19:00:00\",\"endDate\":\"2023-01-28T19:00:00\",\"eventStatus\":null,\"location\":{\"sameAs\":null,\"image\":null,\"@type\":\"Place\",\"name\":\"Cassell Coliseum\",\"address\":{\"streetAddress\":\"Blacksburg, Va.\",\"postalCode\":null,\"addressLocality\":null,\"addressRegion\":null,\"addressCountry\":null,\"@type\":\"PostalAddress\"},\"telephone\":null,\"priceRange\":null},\"description\":\"Virginia Tech Vs Syracuse on 1/28/2023 7:00:00 PM\",\"image\":{\"url\":\"https://hokiesports.com/images/logos/site/site.png\",\"width\":50,\"height\":50,\"@type\":\"ImageObject\"},\"@type\":\"SportsEvent\"},{\"@context\":\"https://schema.org/\",\"name\":\"Virginia Tech At Miami\",\"url\":null,\"homeTeam\":{\"@type\":\"SportsTeam\",\"sameAs\":null,\"name\":\"Virginia Tech\"},\"awayTeam\":{\"@type\":\"SportsTeam\",\"sameAs\":null,\"name\":\"Miami\"},\"startDate\":\"2023-01-31T19:00:00\",\"endDate\":\"2023-01-31T19:00:00\",\"eventStatus\":null,\"location\":{\"sameAs\":null,\"image\":null,\"@type\":\"Place\",\"name\":\"Coral Gabels, Fla.\",\"address\":{\"streetAddress\":\"Coral Gabels, Fla.\",\"postalCode\":null,\"addressLocality\":null,\"addressRegion\":null,\"addressCountry\":null,\"@type\":\"PostalAddress\"},\"telephone\":null,\"priceRange\":null},\"description\":\"Virginia Tech At Miami on 1/31/2023 7:00:00 PM\",\"image\":{\"url\":\"https://hokiesports.com/images/logos/site/site.png\",\"width\":50,\"height\":50,\"@type\":\"ImageObject\"},\"@type\":\"SportsEvent\"},{\"@context\":\"https://schema.org/\",\"name\":\"Virginia Tech Vs Virginia\",\"url\":null,\"homeTeam\":{\"@type\":\"SportsTeam\",\"sameAs\":null,\"name\":\"Virginia Tech\"},\"awayTeam\":{\"@type\":\"SportsTeam\",\"sameAs\":null,\"name\":\"Virginia\"},\"startDate\":\"2023-02-04T12:00:00\",\"endDate\":\"2023-02-04T12:00:00\",\"eventStatus\":null,\"location\":{\"sameAs\":null,\"image\":null,\"@type\":\"Place\",\"name\":\"Cassell Coliseum\",\"address\":{\"streetAddress\":\"Blacksburg, Va.\",\"postalCode\":null,\"addressLocality\":null,\"addressRegion\":null,\"addressCountry\":null,\"@type\":\"PostalAddress\"},\"telephone\":null,\"priceRange\":null},\"description\":\"Virginia Tech Vs Virginia on 2/4/2023 12:00:00 PM\",\"image\":{\"url\":\"https://hokiesports.com/images/logos/site/site.png\",\"width\":50,\"height\":50,\"@type\":\"ImageObject\"},\"@type\":\"SportsEvent\"},{\"@context\":\"https://schema.org/\",\"name\":\"Virginia Tech Vs Boston College\",\"url\":null,\"homeTeam\":{\"@type\":\"SportsTeam\",\"sameAs\":null,\"name\":\"Virginia Tech\"},\"awayTeam\":{\"@type\":\"SportsTeam\",\"sameAs\":null,\"name\":\"Boston College\"},\"startDate\":\"2023-02-08T19:00:00\",\"endDate\":\"2023-02-08T19:00:00\",\"eventStatus\":null,\"location\":{\"sameAs\":null,\"image\":null,\"@type\":\"Place\",\"name\":\"Cassell Coliseum\",\"address\":{\"streetAddress\":\"Blacksburg, Va.\",\"postalCode\":null,\"addressLocality\":null,\"addressRegion\":null,\"addressCountry\":null,\"@type\":\"PostalAddress\"},\"telephone\":null,\"priceRange\":null},\"description\":\"Virginia Tech Vs Boston College on 2/8/2023 7:00:00 PM\",\"image\":{\"url\":\"https://hokiesports.com/images/logos/site/site.png\",\"width\":50,\"height\":50,\"@type\":\"ImageObject\"},\"@type\":\"SportsEvent\"},{\"@context\":\"https://schema.org/\",\"name\":\"Virginia Tech At Notre Dame\",\"url\":null,\"homeTeam\":{\"@type\":\"SportsTeam\",\"sameAs\":null,\"name\":\"Virginia Tech\"},\"awayTeam\":{\"@type\":\"SportsTeam\",\"sameAs\":null,\"name\":\"Notre Dame\"},\"startDate\":\"2023-02-11T14:00:00\",\"endDate\":\"2023-02-11T14:00:00\",\"eventStatus\":null,\"location\":{\"sameAs\":null,\"image\":null,\"@type\":\"Place\",\"name\":\"Notre Dame, Ind.\",\"address\":{\"streetAddress\":\"Notre Dame, Ind.\",\"postalCode\":null,\"addressLocality\":null,\"addressRegion\":null,\"addressCountry\":null,\"@type\":\"PostalAddress\"},\"telephone\":null,\"priceRange\":null},\"description\":\"Virginia Tech At Notre Dame on 2/11/2023 2:00:00 PM\",\"image\":{\"url\":\"https://hokiesports.com/images/logos/site/site.png\",\"width\":50,\"height\":50,\"@type\":\"ImageObject\"},\"@type\":\"SportsEvent\"},{\"@context\":\"https://schema.org/\",\"name\":\"Virginia Tech At Georgia Tech\",\"url\":null,\"homeTeam\":{\"@type\":\"SportsTeam\",\"sameAs\":null,\"name\":\"Virginia Tech\"},\"awayTeam\":{\"@type\":\"SportsTeam\",\"sameAs\":null,\"name\":\"Georgia Tech\"},\"startDate\":\"2023-02-15T19:00:00\",\"endDate\":\"2023-02-15T19:00:00\",\"eventStatus\":null,\"location\":{\"sameAs\":null,\"image\":null,\"@type\":\"Place\",\"name\":\"Atlanta, Ga.\",\"address\":{\"streetAddress\":\"Atlanta, Ga.\",\"postalCode\":null,\"addressLocality\":null,\"addressRegion\":null,\"addressCountry\":null,\"@type\":\"PostalAddress\"},\"telephone\":null,\"priceRange\":null},\"description\":\"Virginia Tech At Georgia Tech on 2/15/2023 7:00:00 PM\",\"image\":{\"url\":\"https://hokiesports.com/images/logos/site/site.png\",\"width\":50,\"height\":50,\"@type\":\"ImageObject\"},\"@type\":\"SportsEvent\"},{\"@context\":\"https://schema.org/\",\"name\":\"Virginia Tech Vs Pitt\",\"url\":null,\"homeTeam\":{\"@type\":\"SportsTeam\",\"sameAs\":null,\"name\":\"Virginia Tech\"},\"awayTeam\":{\"@type\":\"SportsTeam\",\"sameAs\":null,\"name\":\"Pitt\"},\"startDate\":\"2023-02-18T17:00:00\",\"endDate\":\"2023-02-18T17:00:00\",\"eventStatus\":null,\"location\":{\"sameAs\":null,\"image\":null,\"@type\":\"Place\",\"name\":\"Cassell Coliseum\",\"address\":{\"streetAddress\":\"Blacksburg, Va.\",\"postalCode\":null,\"addressLocality\":null,\"addressRegion\":null,\"addressCountry\":null,\"@type\":\"PostalAddress\"},\"telephone\":null,\"priceRange\":null},\"description\":\"Virginia Tech Vs Pitt on 2/18/2023 5:00:00 PM\",\"image\":{\"url\":\"https://hokiesports.com/images/logos/site/site.png\",\"width\":50,\"height\":50,\"@type\":\"ImageObject\"},\"@type\":\"SportsEvent\"},{\"@context\":\"https://schema.org/\",\"name\":\"Virginia Tech Vs Miami\",\"url\":null,\"homeTeam\":{\"@type\":\"SportsTeam\",\"sameAs\":null,\"name\":\"Virginia Tech\"},\"awayTeam\":{\"@type\":\"SportsTeam\",\"sameAs\":null,\"name\":\"Miami\"},\"startDate\":\"2023-02-21T19:00:00\",\"endDate\":\"2023-02-21T19:00:00\",\"eventStatus\":null,\"location\":{\"sameAs\":null,\"image\":null,\"@type\":\"Place\",\"name\":\"Cassell Coliseum\",\"address\":{\"streetAddress\":\"Blacksburg, Va.\",\"postalCode\":null,\"addressLocality\":null,\"addressRegion\":null,\"addressCountry\":null,\"@type\":\"PostalAddress\"},\"telephone\":null,\"priceRange\":null},\"description\":\"Virginia Tech Vs Miami on 2/21/2023 7:00:00 PM\",\"image\":{\"url\":\"https://hokiesports.com/images/logos/site/site.png\",\"width\":50,\"height\":50,\"@type\":\"ImageObject\"},\"@type\":\"SportsEvent\"},{\"@context\":\"https://schema.org/\",\"name\":\"Virginia Tech At Duke\",\"url\":null,\"homeTeam\":{\"@type\":\"SportsTeam\",\"sameAs\":null,\"name\":\"Virginia Tech\"},\"awayTeam\":{\"@type\":\"SportsTeam\",\"sameAs\":null,\"name\":\"Duke\"},\"startDate\":\"2023-02-25T00:00:00\",\"endDate\":\"2023-02-25T00:00:00\",\"eventStatus\":null,\"location\":{\"sameAs\":null,\"image\":null,\"@type\":\"Place\",\"name\":\"Durham N.C.\",\"address\":{\"streetAddress\":\"Durham N.C.\",\"postalCode\":null,\"addressLocality\":null,\"addressRegion\":null,\"addressCountry\":null,\"@type\":\"PostalAddress\"},\"telephone\":null,\"priceRange\":null},\"description\":\"Virginia Tech At Duke on 2/25/2023 12:00:00 AM\",\"image\":{\"url\":\"https://hokiesports.com/images/logos/site/site.png\",\"width\":50,\"height\":50,\"@type\":\"ImageObject\"},\"@type\":\"SportsEvent\"},{\"@context\":\"https://schema.org/\",\"name\":\"Virginia Tech At Louisville\",\"url\":null,\"homeTeam\":{\"@type\":\"SportsTeam\",\"sameAs\":null,\"name\":\"Virginia Tech\"},\"awayTeam\":{\"@type\":\"SportsTeam\",\"sameAs\":null,\"name\":\"Louisville\"},\"startDate\":\"2023-02-28T21:00:00\",\"endDate\":\"2023-02-28T21:00:00\",\"eventStatus\":null,\"location\":{\"sameAs\":null,\"image\":null,\"@type\":\"Place\",\"name\":\"Louisville, Ky.\",\"address\":{\"streetAddress\":\"Louisville, Ky.\",\"postalCode\":null,\"addressLocality\":null,\"addressRegion\":null,\"addressCountry\":null,\"@type\":\"PostalAddress\"},\"telephone\":null,\"priceRange\":null},\"description\":\"Virginia Tech At Louisville on 2/28/2023 9:00:00 PM\",\"image\":{\"url\":\"https://hokiesports.com/images/logos/site/site.png\",\"width\":50,\"height\":50,\"@type\":\"ImageObject\"},\"@type\":\"SportsEvent\"},{\"@context\":\"https://schema.org/\",\"name\":\"Virginia Tech Vs Florida State\",\"url\":null,\"homeTeam\":{\"@type\":\"SportsTeam\",\"sameAs\":null,\"name\":\"Virginia Tech\"},\"awayTeam\":{\"@type\":\"SportsTeam\",\"sameAs\":null,\"name\":\"Florida State\"},\"startDate\":\"2023-03-04T00:00:00\",\"endDate\":\"2023-03-04T00:00:00\",\"eventStatus\":null,\"location\":{\"sameAs\":null,\"image\":null,\"@type\":\"Place\",\"name\":\"Cassell Coliseum\",\"address\":{\"streetAddress\":\"Blacksburg, Va.\",\"postalCode\":null,\"addressLocality\":null,\"addressRegion\":null,\"addressCountry\":null,\"@type\":\"PostalAddress\"},\"telephone\":null,\"priceRange\":null},\"description\":\"Virginia Tech Vs Florida State on 3/4/2023 12:00:00 AM\",\"image\":{\"url\":\"https://hokiesports.com/images/logos/site/site.png\",\"width\":50,\"height\":50,\"@type\":\"ImageObject\"},\"@type\":\"SportsEvent\"},{\"@context\":\"https://schema.org/\",\"name\":\"Virginia Tech Vs First Round-Championship\",\"url\":null,\"homeTeam\":{\"@type\":\"SportsTeam\",\"sameAs\":null,\"name\":\"Virginia Tech\"},\"awayTeam\":{\"@type\":\"SportsTeam\",\"sameAs\":null,\"name\":\"First Round-Championship\"},\"startDate\":\"2023-03-07T00:00:00\",\"endDate\":\"2023-03-07T00:00:00\",\"eventStatus\":null,\"location\":{\"sameAs\":null,\"image\":null,\"@type\":\"Place\",\"name\":\"Greensboro Coliseum\",\"address\":{\"streetAddress\":\"Greensboro, N.C.\",\"postalCode\":null,\"addressLocality\":null,\"addressRegion\":null,\"addressCountry\":null,\"@type\":\"PostalAddress\"},\"telephone\":null,\"priceRange\":null},\"description\":\"Virginia Tech Vs First Round-Championship on 3/7/2023 12:00:00 AM\",\"image\":{\"url\":\"https://hokiesports.com/images/logos/site/site.png\",\"width\":50,\"height\":50,\"@type\":\"ImageObject\"},\"@type\":\"SportsEvent\"}]</script>"
      ]
     },
     "execution_count": 46,
     "metadata": {},
     "output_type": "execute_result"
    }
   ],
   "source": [
    "x = soup.find_all('script')\n",
    "\n",
    "games_html = x[6]\n",
    "games_html"
   ]
  },
  {
   "cell_type": "markdown",
   "id": "bda0c0ea",
   "metadata": {},
   "source": [
    "The tag with the games appears to be the only one with 'type': 'application/ld+json'"
   ]
  },
  {
   "cell_type": "code",
   "execution_count": 52,
   "id": "295cda81",
   "metadata": {},
   "outputs": [],
   "source": [
    "games_html = [y for y in x if 'type' in y.attrs.keys() and y.attrs['type'] == 'application/ld+json'][0]"
   ]
  },
  {
   "cell_type": "markdown",
   "id": "acf585b1",
   "metadata": {},
   "source": [
    "It looks like this piece of HTML code is tagged as a script of type LD JSON (linked data JSON). Apparently LD JSON formats are commonly used for the web. The contents are in JSON format."
   ]
  },
  {
   "cell_type": "code",
   "execution_count": 82,
   "id": "70a257e3",
   "metadata": {},
   "outputs": [
    {
     "data": {
      "text/plain": [
       "{'@context': 'https://schema.org/',\n",
       " 'name': 'Virginia Tech Vs Oklahoma State',\n",
       " 'url': None,\n",
       " 'homeTeam': {'@type': 'SportsTeam', 'sameAs': None, 'name': 'Virginia Tech'},\n",
       " 'awayTeam': {'@type': 'SportsTeam', 'sameAs': None, 'name': 'Oklahoma State'},\n",
       " 'startDate': '2022-12-11T14:00:00',\n",
       " 'endDate': '2022-12-11T14:00:00',\n",
       " 'eventStatus': None,\n",
       " 'location': {'sameAs': None,\n",
       "  'image': None,\n",
       "  '@type': 'Place',\n",
       "  'name': 'Barclays Center',\n",
       "  'address': {'streetAddress': 'Brooklyn, N.Y.',\n",
       "   'postalCode': None,\n",
       "   'addressLocality': None,\n",
       "   'addressRegion': None,\n",
       "   'addressCountry': None,\n",
       "   '@type': 'PostalAddress'},\n",
       "  'telephone': None,\n",
       "  'priceRange': None},\n",
       " 'description': 'Virginia Tech Vs Oklahoma State on 12/11/2022 2:00:00 PM',\n",
       " 'image': {'url': 'https://hokiesports.com/images/logos/site/site.png',\n",
       "  'width': 50,\n",
       "  'height': 50,\n",
       "  '@type': 'ImageObject'},\n",
       " '@type': 'SportsEvent'}"
      ]
     },
     "execution_count": 82,
     "metadata": {},
     "output_type": "execute_result"
    }
   ],
   "source": [
    "import json\n",
    "\n",
    "games_json = json.loads(str(games_html.contents[0]))\n",
    "games_json[0]"
   ]
  },
  {
   "cell_type": "code",
   "execution_count": 83,
   "id": "3d87a3ba",
   "metadata": {},
   "outputs": [
    {
     "name": "stdout",
     "output_type": "stream",
     "text": [
      "Virginia Tech Vs Oklahoma State on 12/11/2022 2:00:00 PM\n",
      "Virginia Tech Vs Minnesota on 11/28/2022 7:00:00 PM\n",
      "Virginia Tech Vs Old Dominion on 11/17/2022 2:00:00 PM\n",
      "Virginia Tech Vs Penn State on 11/18/2022 12:00:00 PM\n",
      "Virginia Tech At College of Charleston on 11/20/2022 3:30:00 PM\n",
      "Virginia Tech Vs Delaware State on 11/7/2022 9:00:00 PM\n",
      "Virginia Tech Vs Lehigh on 11/10/2022 6:00:00 PM\n",
      "Virginia Tech Vs William & Mary on 11/13/2022 6:00:00 PM\n",
      "Virginia Tech Vs Charleston Southern on 11/25/2022 8:00:00 PM\n",
      "Virginia Tech Vs Dayton on 12/7/2022 8:00:00 PM\n",
      "Virginia Tech Vs Grambling State on 12/17/2022 4:00:00 PM\n",
      "Virginia Tech Vs North Carolina on 12/4/2022 3:00:00 PM\n",
      "Virginia Tech At Boston College on 12/21/2022 6:30:00 PM\n",
      "Virginia Tech At Wake Forest on 12/31/2022 12:00:00 PM\n",
      "Virginia Tech Vs Clemson on 1/4/2023 9:00:00 PM\n",
      "Virginia Tech Vs NC State on 1/7/2023 7:30:00 PM\n",
      "Virginia Tech At Syracuse on 1/11/2023 7:00:00 PM\n",
      "Virginia Tech At Virginia on 1/18/2023 7:00:00 PM\n",
      "Virginia Tech At Clemson on 1/21/2023 6:00:00 PM\n",
      "Virginia Tech Vs Duke on 1/23/2023 7:00:00 PM\n",
      "Virginia Tech Vs Syracuse on 1/28/2023 7:00:00 PM\n",
      "Virginia Tech At Miami on 1/31/2023 7:00:00 PM\n",
      "Virginia Tech Vs Virginia on 2/4/2023 12:00:00 PM\n",
      "Virginia Tech Vs Boston College on 2/8/2023 7:00:00 PM\n",
      "Virginia Tech At Notre Dame on 2/11/2023 2:00:00 PM\n",
      "Virginia Tech At Georgia Tech on 2/15/2023 7:00:00 PM\n",
      "Virginia Tech Vs Pitt on 2/18/2023 5:00:00 PM\n",
      "Virginia Tech Vs Miami on 2/21/2023 7:00:00 PM\n",
      "Virginia Tech At Duke on 2/25/2023 12:00:00 AM\n",
      "Virginia Tech At Louisville on 2/28/2023 9:00:00 PM\n",
      "Virginia Tech Vs Florida State on 3/4/2023 12:00:00 AM\n",
      "Virginia Tech Vs First Round-Championship on 3/7/2023 12:00:00 AM\n"
     ]
    }
   ],
   "source": [
    "for g in games_json:\n",
    "    print(g['description'])"
   ]
  },
  {
   "cell_type": "code",
   "execution_count": 87,
   "id": "cc7c38e5",
   "metadata": {},
   "outputs": [
    {
     "name": "stdout",
     "output_type": "stream",
     "text": [
      "Virginia Tech At Clemson on 1/21/2023 6:00:00 PM\n",
      "Virginia Tech Vs Duke on 1/23/2023 7:00:00 PM\n",
      "Virginia Tech Vs Syracuse on 1/28/2023 7:00:00 PM\n",
      "Virginia Tech At Miami on 1/31/2023 7:00:00 PM\n",
      "Virginia Tech Vs Virginia on 2/4/2023 12:00:00 PM\n",
      "Virginia Tech Vs Boston College on 2/8/2023 7:00:00 PM\n",
      "Virginia Tech At Notre Dame on 2/11/2023 2:00:00 PM\n",
      "Virginia Tech At Georgia Tech on 2/15/2023 7:00:00 PM\n",
      "Virginia Tech Vs Pitt on 2/18/2023 5:00:00 PM\n",
      "Virginia Tech Vs Miami on 2/21/2023 7:00:00 PM\n",
      "Virginia Tech At Duke on 2/25/2023 12:00:00 AM\n",
      "Virginia Tech At Louisville on 2/28/2023 9:00:00 PM\n",
      "Virginia Tech Vs Florida State on 3/4/2023 12:00:00 AM\n",
      "Virginia Tech Vs First Round-Championship on 3/7/2023 12:00:00 AM\n"
     ]
    }
   ],
   "source": [
    "from datetime import datetime\n",
    "\n",
    "today = datetime.today()\n",
    "\n",
    "for g in games_json:\n",
    "    if datetime.strptime(g['startDate'], '%Y-%m-%dT%H:%M:%S') >= today:\n",
    "        print(g['description'])"
   ]
  }
 ],
 "metadata": {
  "kernelspec": {
   "display_name": "Python 3 (ipykernel)",
   "language": "python",
   "name": "python3"
  },
  "language_info": {
   "codemirror_mode": {
    "name": "ipython",
    "version": 3
   },
   "file_extension": ".py",
   "mimetype": "text/x-python",
   "name": "python",
   "nbconvert_exporter": "python",
   "pygments_lexer": "ipython3",
   "version": "3.10.0"
  },
  "varInspector": {
   "cols": {
    "lenName": 16,
    "lenType": 16,
    "lenVar": 40
   },
   "kernels_config": {
    "python": {
     "delete_cmd_postfix": "",
     "delete_cmd_prefix": "del ",
     "library": "var_list.py",
     "varRefreshCmd": "print(var_dic_list())"
    },
    "r": {
     "delete_cmd_postfix": ") ",
     "delete_cmd_prefix": "rm(",
     "library": "var_list.r",
     "varRefreshCmd": "cat(var_dic_list()) "
    }
   },
   "types_to_exclude": [
    "module",
    "function",
    "builtin_function_or_method",
    "instance",
    "_Feature"
   ],
   "window_display": false
  }
 },
 "nbformat": 4,
 "nbformat_minor": 5
}
