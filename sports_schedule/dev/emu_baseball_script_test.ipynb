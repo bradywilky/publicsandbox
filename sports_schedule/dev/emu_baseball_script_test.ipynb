{
 "cells": [
  {
   "cell_type": "code",
   "execution_count": 2,
   "id": "2e4e629c",
   "metadata": {},
   "outputs": [],
   "source": [
    "import requests\n",
    "import json\n",
    "from datetime import datetime\n",
    "\n",
    "from bs4 import BeautifulSoup\n",
    "\n",
    "\n",
    "def _get_date(event):\n",
    "    return event.find('div', {'class': 'date'}).attrs['title']\n",
    "\n",
    "def _get_time(event):\n",
    "    return event.find('div', {'class': 'status'}).contents[0].replace('\\t', '').replace('\\n', '')\n",
    "\n",
    "def _get_venue(event):\n",
    "    if len(event.find_all('a')) > 1:\n",
    "        return event.find_all('a')[-1].attrs['title']\n",
    "    else:\n",
    "        return event.find('a').attrs['title']\n",
    "\n",
    "def _get_opp(event):\n",
    "    if _get_venue(event) != 'Home':\n",
    "        return event.find('span', {'class': 'font-weight-normal normal'}).find('span', {'class': 'team-name'}).contents[0]\n",
    "    else:\n",
    "        return event.find('span', {'class': 'font-weight-bold bold'}).find('span', {'class': 'team-name'}).contents[0]\n",
    "    \n",
    "    \n",
    "url = 'https://www.emuroyals.com/sports/bsb/2022-23/schedule'\n",
    "r = requests.get(url, headers={'User-Agent': 'Mozilla/5.0 (Windows NT 10.0; Win64; x64) AppleWebKit/537.36 (KHTML, like Gecko) Chrome/108.0.0.0 Safari/537.36'})\n",
    "\n",
    "soup = BeautifulSoup(r.content)\n",
    "\n",
    "event_list = soup.find_all('div', {'class': 'event-info clearfix'})\n",
    "\n",
    "games_html = ''\n",
    "\n",
    "for i in event_list:\n",
    "    games_html += f'{_get_date(i)} at {_get_time(i)}: {_get_opp(i)} ({_get_venue(i)})<br>'"
   ]
  }
 ],
 "metadata": {
  "kernelspec": {
   "display_name": "Python 3 (ipykernel)",
   "language": "python",
   "name": "python3"
  },
  "language_info": {
   "codemirror_mode": {
    "name": "ipython",
    "version": 3
   },
   "file_extension": ".py",
   "mimetype": "text/x-python",
   "name": "python",
   "nbconvert_exporter": "python",
   "pygments_lexer": "ipython3",
   "version": "3.10.0"
  },
  "varInspector": {
   "cols": {
    "lenName": 16,
    "lenType": 16,
    "lenVar": 40
   },
   "kernels_config": {
    "python": {
     "delete_cmd_postfix": "",
     "delete_cmd_prefix": "del ",
     "library": "var_list.py",
     "varRefreshCmd": "print(var_dic_list())"
    },
    "r": {
     "delete_cmd_postfix": ") ",
     "delete_cmd_prefix": "rm(",
     "library": "var_list.r",
     "varRefreshCmd": "cat(var_dic_list()) "
    }
   },
   "types_to_exclude": [
    "module",
    "function",
    "builtin_function_or_method",
    "instance",
    "_Feature"
   ],
   "window_display": false
  }
 },
 "nbformat": 4,
 "nbformat_minor": 5
}
