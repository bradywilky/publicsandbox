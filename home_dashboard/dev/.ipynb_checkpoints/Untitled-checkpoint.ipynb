{
 "cells": [
  {
   "cell_type": "code",
   "execution_count": 13,
   "id": "fab657c5",
   "metadata": {},
   "outputs": [],
   "source": [
    "import requests\n",
    "import json\n",
    "\n",
    "def weather_api_call(lat=\"38.8048\", lon=\"-77.0469\"):\n",
    "#     api_key = \n",
    "    exc = 'minutely,alerts'\n",
    "        \n",
    "    url = f\"https://api.openweathermap.org/data/3.0/onecall?lat={lat}&lon={lon}&exclude={exc}&appid={api_key}&units=imperial\"\n",
    "    response = requests.get(url)\n",
    "    data = response.json()\n",
    "    \n",
    "    return data"
   ]
  },
  {
   "cell_type": "code",
   "execution_count": 17,
   "id": "e9985397",
   "metadata": {},
   "outputs": [],
   "source": [
    "# 38.826924030193695, -123.01896144392933\n",
    "# 25.85533251279967, -81.00687510499581\n",
    "lat=38.826924030193695\n",
    "lon=-123.01896144392933\n",
    "\n",
    "distinct_weather_descriptions = list()\n",
    "for i in range(15):\n",
    "    data=weather_api_call(lat,lon+i)\n",
    "    for t in ['hourly', 'daily']:\n",
    "        for dsc in [d['weather'][0]['description'] for d in data[t]]:\n",
    "            if dsc not in distinct_weather_descriptions:\n",
    "                distinct_weather_descriptions.append(dsc)\n",
    "                \n",
    "lat=25.85533251279967\n",
    "lon=-81.00687510499581\n",
    "\n",
    "for i in range(15):\n",
    "    data=weather_api_call(lat+i,lon)\n",
    "    for t in ['hourly', 'daily']:\n",
    "        for dsc in [d['weather'][0]['description'] for d in data[t]]:\n",
    "            if dsc not in distinct_weather_descriptions:\n",
    "                distinct_weather_descriptions.append(dsc)                "
   ]
  },
  {
   "cell_type": "code",
   "execution_count": 18,
   "id": "4b247cd7",
   "metadata": {},
   "outputs": [
    {
     "data": {
      "text/plain": [
       "['clear sky',\n",
       " 'scattered clouds',\n",
       " 'broken clouds',\n",
       " 'overcast clouds',\n",
       " 'light rain',\n",
       " 'few clouds',\n",
       " 'moderate rain',\n",
       " 'light snow',\n",
       " 'rain and snow',\n",
       " 'snow',\n",
       " 'heavy intensity rain']"
      ]
     },
     "execution_count": 18,
     "metadata": {},
     "output_type": "execute_result"
    }
   ],
   "source": [
    "distinct_weather_descriptions"
   ]
  }
 ],
 "metadata": {
  "kernelspec": {
   "display_name": "Python 3 (ipykernel)",
   "language": "python",
   "name": "python3"
  },
  "language_info": {
   "codemirror_mode": {
    "name": "ipython",
    "version": 3
   },
   "file_extension": ".py",
   "mimetype": "text/x-python",
   "name": "python",
   "nbconvert_exporter": "python",
   "pygments_lexer": "ipython3",
   "version": "3.10.0"
  },
  "varInspector": {
   "cols": {
    "lenName": 16,
    "lenType": 16,
    "lenVar": 40
   },
   "kernels_config": {
    "python": {
     "delete_cmd_postfix": "",
     "delete_cmd_prefix": "del ",
     "library": "var_list.py",
     "varRefreshCmd": "print(var_dic_list())"
    },
    "r": {
     "delete_cmd_postfix": ") ",
     "delete_cmd_prefix": "rm(",
     "library": "var_list.r",
     "varRefreshCmd": "cat(var_dic_list()) "
    }
   },
   "types_to_exclude": [
    "module",
    "function",
    "builtin_function_or_method",
    "instance",
    "_Feature"
   ],
   "window_display": false
  }
 },
 "nbformat": 4,
 "nbformat_minor": 5
}
