{
 "cells": [
  {
   "cell_type": "code",
   "execution_count": 1,
   "id": "ba4dd4e1-7395-47ea-a2e2-3fced078d7cd",
   "metadata": {},
   "outputs": [],
   "source": [
    "from PIL import Image\n",
    "\n",
    "def trim_transparency(input_image_path, output_image_path):\n",
    "    image = Image.open(input_image_path)\n",
    "    image = image.convert(\"RGBA\")\n",
    "\n",
    "    # Find the bounding box of the non-transparent pixels\n",
    "    bbox = image.getbbox()\n",
    "    if bbox:\n",
    "        image = image.crop(bbox)\n",
    "\n",
    "    # Save or display the cropped image\n",
    "    image.save(output_image_path)"
   ]
  },
  {
   "cell_type": "code",
   "execution_count": 7,
   "id": "659e8e62-44b3-4996-a435-b48048e2fc07",
   "metadata": {},
   "outputs": [
    {
     "data": {
      "text/plain": [
       "37"
      ]
     },
     "execution_count": 7,
     "metadata": {},
     "output_type": "execute_result"
    }
   ],
   "source": [
    "type(100)\n",
    "round(99 * 0.37)"
   ]
  }
 ],
 "metadata": {
  "kernelspec": {
   "display_name": "Python (myvenv)",
   "language": "python",
   "name": "homedashboard_dev_venv"
  },
  "language_info": {
   "codemirror_mode": {
    "name": "ipython",
    "version": 3
   },
   "file_extension": ".py",
   "mimetype": "text/x-python",
   "name": "python",
   "nbconvert_exporter": "python",
   "pygments_lexer": "ipython3",
   "version": "3.10.0"
  }
 },
 "nbformat": 4,
 "nbformat_minor": 5
}
